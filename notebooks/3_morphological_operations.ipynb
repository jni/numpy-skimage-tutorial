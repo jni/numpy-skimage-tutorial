{
 "metadata": {
  "kernelspec": {
   "codemirror_mode": {
    "name": "python",
    "version": 2
   },
   "display_name": "Python 2",
   "language": "python",
   "name": "python2"
  },
  "name": "",
  "signature": "sha256:3d08620f4620373e2ab6274d0d07a52653150ced3492dad8d838d193f2faaeef"
 },
 "nbformat": 3,
 "nbformat_minor": 0,
 "worksheets": [
  {
   "cells": [
    {
     "cell_type": "markdown",
     "metadata": {},
     "source": [
      "# Morphological operations\n",
      "\n",
      "Morphology is the study of shapes. In image processing, some simple operations can get you a long way. The first things to learn are *erosion* and *dilation*. In erosion, we look at a pixel\u2019s local neighborhood and replace the value of that pixel with the minimum value of that neighborhood. In dilation, we instead choose the maximum."
     ]
    },
    {
     "cell_type": "code",
     "collapsed": false,
     "input": [
      "import numpy as np\n",
      "from matplotlib import pyplot as plt, cm\n",
      "%matplotlib inline\n",
      "import skdemo\n",
      "plt.rcParams['image.cmap'] = 'cubehelix'\n",
      "plt.rcParams['image.interpolation'] = 'none'"
     ],
     "language": "python",
     "metadata": {},
     "outputs": []
    },
    {
     "cell_type": "code",
     "collapsed": false,
     "input": [
      "image = np.array([[0, 0, 0, 0, 0, 0, 0],\n",
      "                  [0, 0, 0, 0, 0, 0, 0],\n",
      "                  [0, 0, 1, 1, 1, 0, 0],\n",
      "                  [0, 0, 1, 1, 1, 0, 0],\n",
      "                  [0, 0, 1, 1, 1, 0, 0],\n",
      "                  [0, 0, 0, 0, 0, 0, 0],\n",
      "                  [0, 0, 0, 0, 0, 0, 0]], dtype=np.uint8)\n",
      "plt.imshow(image);"
     ],
     "language": "python",
     "metadata": {},
     "outputs": []
    },
    {
     "cell_type": "markdown",
     "metadata": {},
     "source": [
      "The documentation for scikit-image's morphology module is\n",
      "[here](http://scikit-image.org/docs/0.10.x/api/skimage.morphology.html).\n",
      "\n",
      "Importantly, we must use a *structuring element*, which defines the local\n",
      "neighborhood of each pixel. To get every neighbor (up, down, left, right, and\n",
      "diagonals), use `morphology.square`; to avoid diagonals, use\n",
      "`morphology.diamond`:"
     ]
    },
    {
     "cell_type": "code",
     "collapsed": false,
     "input": [
      "from skimage import morphology\n",
      "sq = morphology.square(width=3)\n",
      "dia = morphology.diamond(radius=1)\n",
      "print(sq)\n",
      "print(dia)"
     ],
     "language": "python",
     "metadata": {},
     "outputs": []
    },
    {
     "cell_type": "markdown",
     "metadata": {},
     "source": [
      "The central value of the structuring element represents the pixel being considered, and the surrounding values are the neighbors: a 1 value means that pixel counts as a neighbor, while a 0 value does not. So:"
     ]
    },
    {
     "cell_type": "code",
     "collapsed": false,
     "input": [
      "skdemo.imshow_all(image, morphology.erosion(image, sq), shape=(1, 2))"
     ],
     "language": "python",
     "metadata": {},
     "outputs": []
    },
    {
     "cell_type": "markdown",
     "metadata": {},
     "source": [
      "and"
     ]
    },
    {
     "cell_type": "code",
     "collapsed": false,
     "input": [
      "skdemo.imshow_all(image, morphology.dilation(image, sq))"
     ],
     "language": "python",
     "metadata": {},
     "outputs": []
    },
    {
     "cell_type": "markdown",
     "metadata": {},
     "source": [
      "and"
     ]
    },
    {
     "cell_type": "code",
     "collapsed": false,
     "input": [
      "skdemo.imshow_all(image, morphology.dilation(image, dia))"
     ],
     "language": "python",
     "metadata": {},
     "outputs": []
    },
    {
     "cell_type": "markdown",
     "metadata": {},
     "source": [
      "Erosion and dilation can be combined into two slightly more sophisticated operations, *opening* and *closing*. Here's an example:"
     ]
    },
    {
     "cell_type": "code",
     "collapsed": false,
     "input": [
      "image = np.array([[0, 0, 0, 0, 0, 0, 0, 0, 0, 0],\n",
      "                  [0, 0, 0, 0, 0, 0, 0, 0, 0, 0],\n",
      "                  [0, 0, 1, 1, 1, 1, 1, 1, 0, 0],\n",
      "                  [0, 0, 1, 1, 1, 1, 1, 1, 0, 0],\n",
      "                  [0, 0, 1, 1, 1, 1, 1, 1, 0, 0],\n",
      "                  [0, 0, 1, 1, 1, 0, 0, 1, 0, 0],\n",
      "                  [0, 0, 1, 1, 1, 0, 0, 1, 0, 0],\n",
      "                  [0, 0, 1, 1, 1, 0, 0, 1, 0, 0],\n",
      "                  [0, 0, 1, 1, 1, 1, 1, 1, 0, 0],\n",
      "                  [0, 0, 1, 1, 1, 1, 1, 1, 0, 0],\n",
      "                  [0, 0, 1, 1, 1, 1, 1, 1, 0, 0],\n",
      "                  [0, 0, 0, 0, 0, 0, 0, 0, 0, 0],\n",
      "                  [0, 0, 0, 0, 0, 0, 0, 0, 0, 0]], np.uint8)\n",
      "plt.imshow(image);"
     ],
     "language": "python",
     "metadata": {},
     "outputs": []
    },
    {
     "cell_type": "markdown",
     "metadata": {},
     "source": [
      "What happens when run an erosion followed by a dilation of this image?\n",
      "\n",
      "What about the reverse?\n",
      "\n",
      "Try to imagine the operations in your head before trying them out below."
     ]
    },
    {
     "cell_type": "code",
     "collapsed": false,
     "input": [
      "skdemo.imshow_all(image, morphology.opening(image, sq)) # erosion -> dilation"
     ],
     "language": "python",
     "metadata": {},
     "outputs": []
    },
    {
     "cell_type": "code",
     "collapsed": false,
     "input": [
      "skdemo.imshow_all(image, morphology.closing(image, sq)) # dilation -> erosion"
     ],
     "language": "python",
     "metadata": {},
     "outputs": []
    },
    {
     "cell_type": "markdown",
     "metadata": {},
     "source": [
      "**Exercise**: use morphological operations to remove noise from a binary image."
     ]
    },
    {
     "cell_type": "code",
     "collapsed": false,
     "input": [
      "from skimage import data, color\n",
      "hub = color.rgb2gray(data.hubble_deep_field()[350:450, 90:190])\n",
      "plt.imshow(hub);"
     ],
     "language": "python",
     "metadata": {},
     "outputs": []
    },
    {
     "cell_type": "markdown",
     "metadata": {},
     "source": [
      "Remove the smaller objects to retrieve the large galaxy."
     ]
    },
    {
     "cell_type": "markdown",
     "metadata": {},
     "source": [
      "---\n",
      "\n",
      "<div style=\"height: 400px;\"></div>"
     ]
    },
    {
     "cell_type": "code",
     "collapsed": false,
     "input": [
      "%reload_ext load_style\n",
      "%load_style ../themes/tutorial.css"
     ],
     "language": "python",
     "metadata": {},
     "outputs": [
      {
       "html": [
        "<style>\n",
        "@import url('http://fonts.googleapis.com/css?family=Inconsolata');\n",
        "\n",
        ".rendered_html {\n",
        "    font-family: Georgia, serif;\n",
        "    font-size: 130%;\n",
        "    line-height: 1.5;\n",
        "}\n",
        "\n",
        ".input {\n",
        "    width: 930px;\n",
        "}\n",
        "\n",
        ".inner_cell {\n",
        "    width: 800px;\n",
        "}\n",
        "\n",
        ".code_cell {\n",
        "    width: 800px;\n",
        "}\n",
        "\n",
        ".CodeMirror-sizer {\n",
        "}\n",
        "\n",
        "hr {\n",
        "    border: 1px solid #DDD;\n",
        "}\n",
        "\n",
        ".rendered_html h1 {\n",
        "    margin: 0.25em 0em 0.5em;\n",
        "    font-family: sans-serif;\n",
        "    color: #015C9C;\n",
        "    text-align: center;\n",
        "    line-height: 1.2;\n",
        "    page-break-before: always;\n",
        "}\n",
        "\n",
        ".rendered_html h2 {\n",
        "    margin: 1.1em 0em 0.5em;\n",
        "    font-family: sans-serif;\n",
        "    color: #26465D;\n",
        "    line-height: 1.2;\n",
        "}\n",
        "\n",
        ".rendered_html h3 {\n",
        "    font-family: sans-serif;\n",
        "    margin: 1.1em 0em 0.5em;\n",
        "    color: #002845;\n",
        "    line-height: 1.2;\n",
        "}\n",
        "\n",
        ".rendered_html li {\n",
        "    line-height: 1.5;\n",
        "}\n",
        "\n",
        ".CodeMirror-lines {\n",
        "    font-size: 110%;\n",
        "    line-height: 1.5em;\n",
        "    font-family: Inconsolata, DejaVu Sans Mono, Consolas, Ubuntu, monospace;\n",
        "}\n",
        "\n",
        "code {\n",
        "    font-family: Inconsolata, monospace;\n",
        "}\n",
        "\n",
        ".output {\n",
        "    font-family: Inconsolata, DejaVu Sans Mono, Consolas, Ubuntu, monospace;\n",
        "}\n",
        "\n",
        "h1.bigtitle {\n",
        "    margin: 4cm 1cm 4cm 1cm;\n",
        "    font-size: 300%;\n",
        "}\n",
        "\n",
        "h3.point {\n",
        "    font-size: 200%;\n",
        "    text-align: center;\n",
        "    margin: 2em 0em 2em 0em;\n",
        "    #26465D\n",
        "}\n",
        "\n",
        ".logo {\n",
        "    margin: 20px 0 20px 0;\n",
        "}\n",
        "\n",
        "a.anchor-link {\n",
        "    display: none;\n",
        "}\n",
        "\n",
        "h1.title {\n",
        "    font-size: 250%;\n",
        "}\n",
        "\n",
        ".exercize {\n",
        "    color: #738;\n",
        "}\n",
        "\n",
        "h2 .exercize {\n",
        "    font-style: italic;\n",
        "}\n",
        "\n",
        "</style>"
       ],
       "metadata": {},
       "output_type": "display_data",
       "text": [
        "<IPython.core.display.HTML at 0x1069e5c90>"
       ]
      }
     ],
     "prompt_number": 1
    }
   ],
   "metadata": {}
  }
 ]
}