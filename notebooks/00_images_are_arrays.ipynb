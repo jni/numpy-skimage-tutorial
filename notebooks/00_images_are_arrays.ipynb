{
 "metadata": {
  "kernelspec": {
   "codemirror_mode": {
    "name": "python",
    "version": 2
   },
   "display_name": "Python 2",
   "language": "python",
   "name": "python2"
  },
  "name": "",
  "signature": "sha256:1f4a4288c00382180fe3b5cba99cd0d69c8c810e857684e6e61eabe8883b1815"
 },
 "nbformat": 3,
 "nbformat_minor": 0,
 "worksheets": [
  {
   "cells": [
    {
     "cell_type": "markdown",
     "metadata": {},
     "source": [
      "# Images are numpy arrays"
     ]
    },
    {
     "cell_type": "markdown",
     "metadata": {},
     "source": [
      "We represent images in ``scikit-image`` using standard numpy arrays.  This allows maximum inter-operability with other libraries in the scientific Python ecosystem, such as ``matplotlib`` and ``scipy``.\n",
      "\n",
      "Let's see how to build a grayscale image as a 2D array:"
     ]
    },
    {
     "cell_type": "code",
     "collapsed": false,
     "input": [
      "%matplotlib inline\n",
      "import numpy as np\n",
      "from matplotlib import pyplot as plt, cm\n",
      "\n",
      "random_image = np.random.rand(500, 500)\n",
      "plt.imshow(random_image, cmap=cm.gray, interpolation='nearest');"
     ],
     "language": "python",
     "metadata": {},
     "outputs": []
    },
    {
     "cell_type": "markdown",
     "metadata": {},
     "source": [
      "The same holds for \"real-world\" images:"
     ]
    },
    {
     "cell_type": "code",
     "collapsed": false,
     "input": [
      "from skimage import data\n",
      "\n",
      "coins = data.coins()\n",
      "\n",
      "print(type(coins), coins.dtype, coins.shape)\n",
      "plt.imshow(coins, cmap=cm.gray, interpolation='nearest');"
     ],
     "language": "python",
     "metadata": {},
     "outputs": []
    },
    {
     "cell_type": "markdown",
     "metadata": {},
     "source": [
      "A color image is a 3D array, where the last dimension has size 3 and represents the red, green, and blue channels:"
     ]
    },
    {
     "cell_type": "code",
     "collapsed": false,
     "input": [
      "cat = data.chelsea()\n",
      "print(cat.shape)\n",
      "\n",
      "plt.imshow(cat, interpolation='nearest');"
     ],
     "language": "python",
     "metadata": {},
     "outputs": []
    },
    {
     "cell_type": "markdown",
     "metadata": {},
     "source": [
      "These are *just numpy arrays*. Making a red square is easy using just array slicing and manipulation:"
     ]
    },
    {
     "cell_type": "code",
     "collapsed": false,
     "input": [
      "cat[10:110, 10:110, :] = [255, 0, 0]  # [red, green, blue]\n",
      "plt.imshow(cat);"
     ],
     "language": "python",
     "metadata": {},
     "outputs": []
    },
    {
     "cell_type": "markdown",
     "metadata": {},
     "source": [
      "Images can also include transparent regions by adding a 4th dimension, called an *alpha layer*."
     ]
    },
    {
     "cell_type": "markdown",
     "metadata": {},
     "source": [
      "## Data types and image values\n",
      "\n",
      "In literature, one finds different conventions for representing image values:\n",
      "\n",
      "```\n",
      "  0 - 255   where  0 is black, 255 is white\n",
      "  0 - 1     where  0 is black, 1 is white\n",
      "```\n",
      "\n",
      "``scikit-image`` supports both conventions--the choice is determined by the\n",
      "data-type of the array.\n",
      "\n",
      "E.g., here, I generate two valid images:"
     ]
    },
    {
     "cell_type": "code",
     "collapsed": false,
     "input": [
      "linear0 = np.linspace(0, 1, 2500).reshape((50, 50))\n",
      "linear1 = np.linspace(0, 255, 2500).reshape((50, 50)).astype(np.uint8)\n",
      "\n",
      "print \"Linear0:\", linear0.dtype, linear0.min(), linear0.max()\n",
      "print \"Linear1:\", linear1.dtype, linear1.min(), linear1.max()\n",
      "\n",
      "fig, (ax0, ax1) = plt.subplots(1, 2)\n",
      "ax0.imshow(linear0, cmap='gray')\n",
      "ax1.imshow(linear1, cmap='gray');"
     ],
     "language": "python",
     "metadata": {},
     "outputs": []
    },
    {
     "cell_type": "markdown",
     "metadata": {},
     "source": [
      "The library is designed in such a way that any data-type is allowed as input,\n",
      "as long as the range is correct (0-1 for floating point images, 0-255 for unsigned bytes,\n",
      "0-65535 for unsigned 16-bit integers).\n",
      "\n",
      "This is achieved through the use of a few utility functions, such as ``img_as_float`` and ``img_as_ubyte``:"
     ]
    },
    {
     "cell_type": "code",
     "collapsed": false,
     "input": [
      "from skimage import img_as_float, img_as_ubyte\n",
      "\n",
      "image = data.chelsea()\n",
      "\n",
      "image_float = img_as_float(image)\n",
      "print(image_float.dtype, image_float.min(), image_float.max())\n",
      "\n",
      "image_ubyte = img_as_ubyte(image)\n",
      "print(image_ubyte.dtype, image_ubyte.min(), image_ubyte.max())\n",
      "\n",
      "print 231/255."
     ],
     "language": "python",
     "metadata": {},
     "outputs": []
    },
    {
     "cell_type": "markdown",
     "metadata": {},
     "source": [
      "Your code would then typically look like this:\n",
      "\n",
      "```python\n",
      "def my_function(any_image):\n",
      "   float_image = img_as_float(any_image)\n",
      "   # Proceed, knowing image is in [0, 1]\n",
      "```\n",
      "\n",
      "We recommend using the floating point representation, given that\n",
      "``scikit-image`` mostly uses that format internally."
     ]
    },
    {
     "cell_type": "markdown",
     "metadata": {},
     "source": [
      "## <span class=\"exercize\">Exercise: draw the letter H</span>\n",
      "\n",
      "Define a function that takes as input an RGB image and a pair of coordinates (row, column), and returns the image (optionally a copy) with green letter H overlaid at those coordinates. The coordinates should point to the top-left corner of the H.\n",
      "\n",
      "The arms and strut of the H should have a width of 3 pixels, and the H itself should have a height of 24 pixels and width of 20 pixels."
     ]
    },
    {
     "cell_type": "code",
     "collapsed": false,
     "input": [
      "def draw_H(image, coords, color=(0.8, 0.8, 0.8), in_place=True):\n",
      "    out = image\n",
      "    # your code goes here\n",
      "    return out"
     ],
     "language": "python",
     "metadata": {},
     "outputs": []
    },
    {
     "cell_type": "markdown",
     "metadata": {},
     "source": [
      "Test your function like so:"
     ]
    },
    {
     "cell_type": "code",
     "collapsed": false,
     "input": [
      "cat = data.chelsea()\n",
      "cat_H = draw_H(cat, (50, -50))\n",
      "plt.imshow(cat_H);"
     ],
     "language": "python",
     "metadata": {},
     "outputs": []
    },
    {
     "cell_type": "markdown",
     "metadata": {},
     "source": [
      "## <span class=\"exercize\">Bonus points: RGB intensity plot</span>\n",
      "\n",
      "Plot the intensity of each channel of the image along a given row."
     ]
    },
    {
     "cell_type": "code",
     "collapsed": false,
     "input": [
      "def plot_intensity(image, row):\n",
      "    pass # code goes here"
     ],
     "language": "python",
     "metadata": {},
     "outputs": []
    },
    {
     "cell_type": "markdown",
     "metadata": {},
     "source": [
      "Test your function here:"
     ]
    },
    {
     "cell_type": "code",
     "collapsed": false,
     "input": [
      "plot_intensity(coins, 50)\n",
      "plot_intensity(cat, 250)"
     ],
     "language": "python",
     "metadata": {},
     "outputs": []
    },
    {
     "cell_type": "markdown",
     "metadata": {},
     "source": [
      "---\n",
      "\n",
      "<div style=\"height: 400px;\"></div>"
     ]
    },
    {
     "cell_type": "code",
     "collapsed": false,
     "input": [
      "%reload_ext load_style\n",
      "%load_style ../themes/tutorial.css"
     ],
     "language": "python",
     "metadata": {},
     "outputs": [
      {
       "html": [
        "<style>\n",
        ".rendered_html {\n",
        "    font-family: Georgia, serif;\n",
        "    font-size: 130%;\n",
        "    line-height: 1.5;\n",
        "}\n",
        "\n",
        ".input {\n",
        "    width: 930px;\n",
        "}\n",
        "\n",
        ".inner_cell {\n",
        "    width: 800px;\n",
        "}\n",
        "\n",
        ".code_cell {\n",
        "    width: 800px;\n",
        "}\n",
        "\n",
        ".CodeMirror-sizer {\n",
        "}\n",
        "\n",
        "hr {\n",
        "    border: 1px solid #DDD;\n",
        "}\n",
        "\n",
        ".rendered_html h1 {\n",
        "    margin: 0.25em 0em 0.5em;\n",
        "    font-family: sans-serif;\n",
        "    color: #015C9C;\n",
        "    text-align: center;\n",
        "    line-height: 1.2;\n",
        "    page-break-before: always;\n",
        "}\n",
        "\n",
        ".rendered_html h2 {\n",
        "    margin: 1.1em 0em 0.5em;\n",
        "    font-family: sans-serif;\n",
        "    color: #26465D;\n",
        "    line-height: 1.2;\n",
        "}\n",
        "\n",
        ".rendered_html h3 {\n",
        "    font-family: sans-serif;\n",
        "    margin: 1.1em 0em 0.5em;\n",
        "    color: #002845;\n",
        "    line-height: 1.2;\n",
        "}\n",
        "\n",
        ".rendered_html li {\n",
        "    line-height: 1.5;\n",
        "}\n",
        "\n",
        ".CodeMirror-lines {\n",
        "    font-size: 110%;\n",
        "    line-height: 1.4em;\n",
        "    font-family: DejaVu Sans Mono, Consolas, Ubuntu, monospace;\n",
        "}\n",
        "\n",
        "h1.bigtitle {\n",
        "    margin: 4cm 1cm 4cm 1cm;\n",
        "    font-size: 300%;\n",
        "}\n",
        "\n",
        "h3.point {\n",
        "    font-size: 200%;\n",
        "    text-align: center;\n",
        "    margin: 2em 0em 2em 0em;\n",
        "    #26465D\n",
        "}\n",
        "\n",
        ".logo {\n",
        "    margin: 20px 0 20px 0;\n",
        "}\n",
        "\n",
        "a.anchor-link {\n",
        "    display: none;\n",
        "}\n",
        "\n",
        "h1.title {\n",
        "    font-size: 250%;\n",
        "}\n",
        "\n",
        ".exercize {\n",
        "    color: #738;\n",
        "}\n",
        "\n",
        "h2 .exercize {\n",
        "    font-style: italic;\n",
        "}\n",
        "\n",
        "</style>"
       ],
       "metadata": {},
       "output_type": "display_data",
       "text": [
        "<IPython.core.display.HTML object>"
       ]
      }
     ],
     "prompt_number": 113
    },
    {
     "cell_type": "code",
     "collapsed": false,
     "input": [],
     "language": "python",
     "metadata": {},
     "outputs": []
    }
   ],
   "metadata": {}
  }
 ]
}