{
 "metadata": {
  "kernelspec": {
   "codemirror_mode": {
    "name": "python",
    "version": 2
   },
   "display_name": "Python 2",
   "language": "python",
   "name": "python2"
  },
  "name": "",
  "signature": "sha256:ba8ee6652a98a3153ece2b3fa82d54672ba3f75f70a94d7868d52baed089b3ac"
 },
 "nbformat": 3,
 "nbformat_minor": 0,
 "worksheets": [
  {
   "cells": [
    {
     "cell_type": "markdown",
     "metadata": {},
     "source": [
      "# Introduction to NumPy\n",
      "\n",
      "NumPy is the fundamental building block of scientific computing in Python. It provides a data structure called an `ndarray` (n-dimensional array) that can efficiently hold and compute on numerical data. The rest of the scientific Python ecosystem is built on this.\n",
      "\n",
      "Here, I present a brief introduction to NumPy arrays and their capabilities. A full NumPy tutorial would take all day, so this is just getting our feet wet. To delve deeper, have a look at the [tentative numpy tutorial](http://wiki.scipy.org/Tentative_NumPy_Tutorial) and the [numpy API documentation](http://docs.scipy.org/doc/numpy/reference/)\n",
      "\n",
      "- [Introduction to NumPy](Introduction%20to%20NumPy.ipynb)\n",
      "\n",
      "# (Brief) introduction to image analysis with scikit-image\n",
      "\n",
      "Image analysis is central to a boggling number of scientific endeavors. Google needs it for their self-driving cars and to match satellite imagery and mapping data. Neuroscientists need it to understand the brain. NASA needs it to [map asteroids](http://www.bbc.co.uk/news/technology-26528516) and save the human race. It is, however, a relatively underdeveloped area of scientific computing. In this tutorial I will introduce automated image analysis using the \"images as numpy arrays\" abstraction, explaining morphology and then running through a real-world example.\n",
      "\n",
      "- [Images are just NumPy arrays](00_images_are_arrays.ipynb)\n",
      "- [Morphological operations](3_morphological_operations.ipynb)\n",
      "- [Advanced example: measuring intensity along a microscopy image](adv1-lesion-quantification.ipynb)\n",
      "\n",
      "# Improv time!\n",
      "\n",
      "If we have time, raise your own analysis problems. They can make an interesting case study for the rest of the class! Even within the scikit-image team, we still surprise each other with the amazing diversity of applications we encounter!\n",
      "\n",
      "# After the tutorial\n",
      "\n",
      "Stay in touch!\n",
      "\n",
      "- Follow the project's progress [on GitHub](https://github.com/scikit-image/scikit-image).\n",
      "- Ask the team questions on the [mailing list](https://groups.google.com/d/forum/scikit-image)\n",
      "- [Contribute!](https://github.com/scikit-image/scikit-image/blob/master/CONTRIBUTING.txt)\n",
      "- If you find it useful: cite [our paper](https://peerj.com/articles/453/)!"
     ]
    }
   ],
   "metadata": {}
  }
 ]
}