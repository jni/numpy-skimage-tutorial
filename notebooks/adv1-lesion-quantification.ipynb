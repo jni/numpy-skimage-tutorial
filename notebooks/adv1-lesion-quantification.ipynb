{
 "metadata": {
  "kernelspec": {
   "codemirror_mode": {
    "name": "python",
    "version": 2
   },
   "display_name": "Python 2",
   "language": "python",
   "name": "python2"
  },
  "name": "",
  "signature": "sha256:2ea7427f73331a37152617523e9003cd39749603ae2314c60a81aa414295c2c2"
 },
 "nbformat": 3,
 "nbformat_minor": 0,
 "worksheets": [
  {
   "cells": [
    {
     "cell_type": "markdown",
     "metadata": {},
     "source": [
      "# Quantifying spinal cord regeneration in zebrafish\n",
      "\n",
      "We want to quantify the amount of fluorescent cells in a wounded zebrafish embryo spinal column:\n",
      "\n",
      "<img src=\"../images/zebrafish-spinal-cord-color.png\" alt=\"Zebrafish spinal cord\" style=\"width: 300px;\"/>\n",
      "\n",
      "The key steps are:\n",
      "\n",
      "- estimating the position and width of the cord\n",
      "- estimating the average fluorescence along the length of the cord"
     ]
    },
    {
     "cell_type": "code",
     "collapsed": false,
     "input": [
      "%matplotlib inline\n",
      "from matplotlib import pyplot as plt, cm\n",
      "from skimage import io\n",
      "image = io.imread('../images/zebrafish-spinal-cord.png')"
     ],
     "language": "python",
     "metadata": {},
     "outputs": []
    },
    {
     "cell_type": "markdown",
     "metadata": {},
     "source": [
      "# SciPy to estimate coordinates\n",
      "\n",
      "First, we get just the top and bottom rows of pixels, and use a 1D gaussian filter to smooth the signal."
     ]
    },
    {
     "cell_type": "code",
     "collapsed": false,
     "input": [
      "from scipy import ndimage as nd\n",
      "top, bottom = image[[0, -1], :]\n",
      "\n",
      "fig, (ax0, ax1) = plt.subplots(nrows=1, ncols=2, figsize=(8, 3))\n",
      "\n",
      "top_smooth = nd.gaussian_filter1d(top, sigma=20)\n",
      "ax0.plot(top, color='blue', lw=2)\n",
      "ax0.plot(top_smooth, color='orange', lw=2)\n",
      "ax0.set_title('top')\n",
      "\n",
      "bottom_smooth = nd.gaussian_filter1d(bottom, sigma=20)\n",
      "ax1.plot(bottom, color='blue', lw=2)\n",
      "ax1.plot(bottom_smooth, color='orange', lw=2)\n",
      "ax1.set_title('bottom')"
     ],
     "language": "python",
     "metadata": {},
     "outputs": []
    },
    {
     "cell_type": "markdown",
     "metadata": {},
     "source": [
      "With smooth curves, we can get the mode (the position of the center) and width of the signal."
     ]
    },
    {
     "cell_type": "code",
     "collapsed": false,
     "input": [
      "top_mode = np.argmax(top_smooth)\n",
      "top_max = top_smooth[top_mode]\n",
      "top_width = (top_smooth > float(top_max) / 2).sum()\n",
      "\n",
      "bottom_mode = np.argmax(bottom_smooth)\n",
      "bottom_max = bottom_smooth[bottom_mode]\n",
      "bottom_width = (bottom_smooth > float(bottom_max) / 2).sum()\n",
      "\n",
      "width = max(bottom_width, top_width)\n",
      "\n",
      "print(top_mode, top_width, bottom_mode, bottom_width)"
     ],
     "language": "python",
     "metadata": {},
     "outputs": []
    },
    {
     "cell_type": "markdown",
     "metadata": {},
     "source": [
      "# scikit-image to trace the profile\n",
      "\n",
      "Now, use `measure.profile_line` to trace from (0, `top_mode`) to (-1, `bottom_mode`)."
     ]
    },
    {
     "cell_type": "code",
     "collapsed": false,
     "input": [
      "from skimage import measure\n",
      "trace = measure.profile_line(None) # Replace `None` with correct args"
     ],
     "language": "python",
     "metadata": {},
     "outputs": []
    },
    {
     "cell_type": "markdown",
     "metadata": {},
     "source": [
      "Finally, plot the trace."
     ]
    },
    {
     "cell_type": "code",
     "collapsed": false,
     "input": [
      "plt.plot(trace, color='black', lw=2)\n",
      "plt.xlabel('position along embryo')\n",
      "plt.ylabel('mean fluorescence intensity')"
     ],
     "language": "python",
     "metadata": {},
     "outputs": []
    },
    {
     "cell_type": "markdown",
     "metadata": {},
     "source": [
      "From this trace, we can compute various summary statistics (e.g. min/max, gap width, slope, etc), and plot these over time as the wound recovers."
     ]
    },
    {
     "cell_type": "markdown",
     "metadata": {},
     "source": [
      "---\n",
      "\n",
      "<div style=\"height: 400px;\"></div>"
     ]
    },
    {
     "cell_type": "code",
     "collapsed": false,
     "input": [
      "%reload_ext load_style\n",
      "%load_style ../themes/tutorial.css"
     ],
     "language": "python",
     "metadata": {},
     "outputs": [
      {
       "html": [
        "<style>\n",
        "@import url('http://fonts.googleapis.com/css?family=Inconsolata');\n",
        "\n",
        ".rendered_html {\n",
        "    font-family: Georgia, serif;\n",
        "    font-size: 130%;\n",
        "    line-height: 1.5;\n",
        "}\n",
        "\n",
        ".input {\n",
        "    width: 930px;\n",
        "}\n",
        "\n",
        ".inner_cell {\n",
        "    width: 800px;\n",
        "}\n",
        "\n",
        ".code_cell {\n",
        "    width: 800px;\n",
        "}\n",
        "\n",
        ".CodeMirror-sizer {\n",
        "}\n",
        "\n",
        "hr {\n",
        "    border: 1px solid #DDD;\n",
        "}\n",
        "\n",
        ".rendered_html h1 {\n",
        "    margin: 0.25em 0em 0.5em;\n",
        "    font-family: sans-serif;\n",
        "    color: #015C9C;\n",
        "    text-align: center;\n",
        "    line-height: 1.2;\n",
        "    page-break-before: always;\n",
        "}\n",
        "\n",
        ".rendered_html h2 {\n",
        "    margin: 1.1em 0em 0.5em;\n",
        "    font-family: sans-serif;\n",
        "    color: #26465D;\n",
        "    line-height: 1.2;\n",
        "}\n",
        "\n",
        ".rendered_html h3 {\n",
        "    font-family: sans-serif;\n",
        "    margin: 1.1em 0em 0.5em;\n",
        "    color: #002845;\n",
        "    line-height: 1.2;\n",
        "}\n",
        "\n",
        ".rendered_html li {\n",
        "    line-height: 1.5;\n",
        "}\n",
        "\n",
        ".CodeMirror-lines {\n",
        "    font-size: 110%;\n",
        "    line-height: 1.5em;\n",
        "    font-family: Inconsolata, DejaVu Sans Mono, Consolas, Ubuntu, monospace;\n",
        "}\n",
        "\n",
        "code {\n",
        "    font-family: Inconsolata, monospace;\n",
        "}\n",
        "\n",
        ".output {\n",
        "    font-family: Inconsolata, DejaVu Sans Mono, Consolas, Ubuntu, monospace;\n",
        "}\n",
        "\n",
        "h1.bigtitle {\n",
        "    margin: 4cm 1cm 4cm 1cm;\n",
        "    font-size: 300%;\n",
        "}\n",
        "\n",
        "h3.point {\n",
        "    font-size: 200%;\n",
        "    text-align: center;\n",
        "    margin: 2em 0em 2em 0em;\n",
        "    #26465D\n",
        "}\n",
        "\n",
        ".logo {\n",
        "    margin: 20px 0 20px 0;\n",
        "}\n",
        "\n",
        "a.anchor-link {\n",
        "    display: none;\n",
        "}\n",
        "\n",
        "h1.title {\n",
        "    font-size: 250%;\n",
        "}\n",
        "\n",
        ".exercize {\n",
        "    color: #738;\n",
        "}\n",
        "\n",
        "h2 .exercize {\n",
        "    font-style: italic;\n",
        "}\n",
        "\n",
        "</style>"
       ],
       "metadata": {},
       "output_type": "display_data",
       "text": [
        "<IPython.core.display.HTML at 0x106b19c90>"
       ]
      }
     ],
     "prompt_number": 1
    }
   ],
   "metadata": {}
  }
 ]
}