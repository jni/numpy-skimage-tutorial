{
 "metadata": {
  "name": "",
  "signature": "sha256:adc09cfdfafcdbe8a6ceee2e0c0f0aa9f889f6128d14b70948e426071c1706e4"
 },
 "nbformat": 3,
 "nbformat_minor": 0,
 "worksheets": [
  {
   "cells": [
    {
     "cell_type": "markdown",
     "metadata": {},
     "source": [
      "# What is NumPy?"
     ]
    },
    {
     "cell_type": "markdown",
     "metadata": {},
     "source": [
      "NumPy is short for \"Numeric Python\". It is the basis for nearly all scientific computation in the Python world. Its main contribution is the NumPy `ndarray`. (See \"The NumPy array: a structure for efficient numerical computation\", Van der Walt S. et al, 2011. [arXiv link](http://arxiv.org/abs/1102.1523))"
     ]
    },
    {
     "cell_type": "markdown",
     "metadata": {},
     "source": [
      "# Why use NumPy?\n",
      "\n",
      "## Reason 1: it's memory efficient"
     ]
    },
    {
     "cell_type": "code",
     "collapsed": false,
     "input": [
      "%run -i ../ipython_memory_usage/ipython_memory_usage.py"
     ],
     "language": "python",
     "metadata": {},
     "outputs": [
      {
       "output_type": "stream",
       "stream": "stdout",
       "text": [
        "Used 0.0000 MiB RAM in 0.10s, peaked 0.00 MiB above current, total RAM usage 31.71 MiB\n"
       ]
      }
     ],
     "prompt_number": 2
    },
    {
     "cell_type": "code",
     "collapsed": false,
     "input": [
      "long_list = list(range(int(1e7)))"
     ],
     "language": "python",
     "metadata": {},
     "outputs": [
      {
       "output_type": "stream",
       "stream": "stdout",
       "text": [
        "Used 386.9688 MiB RAM in 0.41s, peaked 0.00 MiB above current, total RAM usage 418.68 MiB\n"
       ]
      }
     ],
     "prompt_number": 3
    },
    {
     "cell_type": "code",
     "collapsed": false,
     "input": [
      "import numpy as np"
     ],
     "language": "python",
     "metadata": {},
     "outputs": [
      {
       "output_type": "stream",
       "stream": "stdout",
       "text": [
        "Used 5.7773 MiB RAM in 0.42s, peaked 0.00 MiB above current, total RAM usage 424.45 MiB\n"
       ]
      }
     ],
     "prompt_number": 4
    },
    {
     "cell_type": "markdown",
     "metadata": {},
     "source": [
      "(**Due to what appears to be a bug in memory_profiler, you will need to run the cell below twice.**)"
     ]
    },
    {
     "cell_type": "code",
     "collapsed": false,
     "input": [
      "long_array = np.arange(1e7, dtype=int)"
     ],
     "language": "python",
     "metadata": {},
     "outputs": [
      {
       "output_type": "stream",
       "stream": "stdout",
       "text": [
        "Used 76.3008 MiB RAM in 0.15s, peaked 0.00 MiB above current, total RAM usage 500.78 MiB\n"
       ]
      }
     ],
     "prompt_number": 6
    },
    {
     "cell_type": "markdown",
     "metadata": {},
     "source": [
      "## Reason 2: it's fast"
     ]
    },
    {
     "cell_type": "markdown",
     "metadata": {},
     "source": [
      "We no longer need the memory footprint watcher, so let's turn it off, using the `stop_watching_memory` function that is provided in the script we ran. This is all a bit magical but don't worry about it."
     ]
    },
    {
     "cell_type": "code",
     "collapsed": false,
     "input": [
      "stop_watching_memory(get_ipython())"
     ],
     "language": "python",
     "metadata": {},
     "outputs": [],
     "prompt_number": 7
    },
    {
     "cell_type": "markdown",
     "metadata": {},
     "source": [
      "Okay, let's time a few operations:"
     ]
    },
    {
     "cell_type": "code",
     "collapsed": false,
     "input": [
      "%timeit sum(long_list)"
     ],
     "language": "python",
     "metadata": {},
     "outputs": [
      {
       "output_type": "stream",
       "stream": "stdout",
       "text": [
        "10 loops, best of 3: 86.9 ms per loop\n"
       ]
      }
     ],
     "prompt_number": 8
    },
    {
     "cell_type": "code",
     "collapsed": false,
     "input": [
      "%timeit np.sum(long_array)"
     ],
     "language": "python",
     "metadata": {},
     "outputs": [
      {
       "output_type": "stream",
       "stream": "stdout",
       "text": [
        "100 loops, best of 3: 7.1 ms per loop\n"
       ]
      }
     ],
     "prompt_number": 9
    },
    {
     "cell_type": "markdown",
     "metadata": {},
     "source": [
      "## Reason 3: it's multidimensional"
     ]
    },
    {
     "cell_type": "code",
     "collapsed": false,
     "input": [
      "wide_array = np.arange(45).reshape(5, 9)\n",
      "print(wide_array)"
     ],
     "language": "python",
     "metadata": {},
     "outputs": [
      {
       "output_type": "stream",
       "stream": "stdout",
       "text": [
        "[[ 0  1  2  3  4  5  6  7  8]\n",
        " [ 9 10 11 12 13 14 15 16 17]\n",
        " [18 19 20 21 22 23 24 25 26]\n",
        " [27 28 29 30 31 32 33 34 35]\n",
        " [36 37 38 39 40 41 42 43 44]]\n"
       ]
      }
     ],
     "prompt_number": 10
    },
    {
     "cell_type": "code",
     "collapsed": false,
     "input": [
      "deep_and_wide_array = wide_array.reshape((5, 3, 3))\n",
      "print(deep_and_wide_array)"
     ],
     "language": "python",
     "metadata": {},
     "outputs": [
      {
       "output_type": "stream",
       "stream": "stdout",
       "text": [
        "[[[ 0  1  2]\n",
        "  [ 3  4  5]\n",
        "  [ 6  7  8]]\n",
        "\n",
        " [[ 9 10 11]\n",
        "  [12 13 14]\n",
        "  [15 16 17]]\n",
        "\n",
        " [[18 19 20]\n",
        "  [21 22 23]\n",
        "  [24 25 26]]\n",
        "\n",
        " [[27 28 29]\n",
        "  [30 31 32]\n",
        "  [33 34 35]]\n",
        "\n",
        " [[36 37 38]\n",
        "  [39 40 41]\n",
        "  [42 43 44]]]\n"
       ]
      }
     ],
     "prompt_number": 11
    },
    {
     "cell_type": "markdown",
     "metadata": {},
     "source": [
      "# Some NumPy basics"
     ]
    },
    {
     "cell_type": "markdown",
     "metadata": {},
     "source": [
      "## Indexing"
     ]
    },
    {
     "cell_type": "markdown",
     "metadata": {},
     "source": [
      "One of NumPy's strengths is its sophisticated indexing engine. "
     ]
    },
    {
     "cell_type": "code",
     "collapsed": false,
     "input": [
      "deep_and_wide_array[0] # get the first \"level\""
     ],
     "language": "python",
     "metadata": {},
     "outputs": [
      {
       "metadata": {},
       "output_type": "pyout",
       "prompt_number": 12,
       "text": [
        "array([[0, 1, 2],\n",
        "       [3, 4, 5],\n",
        "       [6, 7, 8]])"
       ]
      }
     ],
     "prompt_number": 12
    },
    {
     "cell_type": "code",
     "collapsed": false,
     "input": [
      "deep_and_wide_array[-1] # get the *last* \"level\""
     ],
     "language": "python",
     "metadata": {},
     "outputs": [
      {
       "metadata": {},
       "output_type": "pyout",
       "prompt_number": 13,
       "text": [
        "array([[36, 37, 38],\n",
        "       [39, 40, 41],\n",
        "       [42, 43, 44]])"
       ]
      }
     ],
     "prompt_number": 13
    },
    {
     "cell_type": "code",
     "collapsed": false,
     "input": [
      "deep_and_wide_array[1:-1] # get all levels between the second (inclusive) and last (not inclusive)"
     ],
     "language": "python",
     "metadata": {},
     "outputs": [
      {
       "metadata": {},
       "output_type": "pyout",
       "prompt_number": 14,
       "text": [
        "array([[[ 9, 10, 11],\n",
        "        [12, 13, 14],\n",
        "        [15, 16, 17]],\n",
        "\n",
        "       [[18, 19, 20],\n",
        "        [21, 22, 23],\n",
        "        [24, 25, 26]],\n",
        "\n",
        "       [[27, 28, 29],\n",
        "        [30, 31, 32],\n",
        "        [33, 34, 35]]])"
       ]
      }
     ],
     "prompt_number": 14
    },
    {
     "cell_type": "code",
     "collapsed": false,
     "input": [
      "deep_and_wide_array[1, 2] # get the second level, third row"
     ],
     "language": "python",
     "metadata": {},
     "outputs": [
      {
       "metadata": {},
       "output_type": "pyout",
       "prompt_number": 15,
       "text": [
        "array([15, 16, 17])"
       ]
      }
     ],
     "prompt_number": 15
    },
    {
     "cell_type": "code",
     "collapsed": false,
     "input": [
      "deep_and_wide_array[:, :, 2] # get the third column of every level and row"
     ],
     "language": "python",
     "metadata": {},
     "outputs": [
      {
       "metadata": {},
       "output_type": "pyout",
       "prompt_number": 16,
       "text": [
        "array([[ 2,  5,  8],\n",
        "       [11, 14, 17],\n",
        "       [20, 23, 26],\n",
        "       [29, 32, 35],\n",
        "       [38, 41, 44]])"
       ]
      }
     ],
     "prompt_number": 16
    },
    {
     "cell_type": "code",
     "collapsed": false,
     "input": [
      "deep_and_wide_array[::2] # Get every other level"
     ],
     "language": "python",
     "metadata": {},
     "outputs": [
      {
       "metadata": {},
       "output_type": "pyout",
       "prompt_number": 17,
       "text": [
        "array([[[ 0,  1,  2],\n",
        "        [ 3,  4,  5],\n",
        "        [ 6,  7,  8]],\n",
        "\n",
        "       [[18, 19, 20],\n",
        "        [21, 22, 23],\n",
        "        [24, 25, 26]],\n",
        "\n",
        "       [[36, 37, 38],\n",
        "        [39, 40, 41],\n",
        "        [42, 43, 44]]])"
       ]
      }
     ],
     "prompt_number": 17
    },
    {
     "cell_type": "markdown",
     "metadata": {},
     "source": [
      "**Exercise:** Get the following slices out of the `deep_and_wide_array`:\n",
      "\n",
      "- every other row of the first level.\n",
      "- every other row and column of all levels.\n",
      "- the last row of every level.\n",
      "- the second-to-last level."
     ]
    },
    {
     "cell_type": "code",
     "collapsed": false,
     "input": [
      "print(\"every other row of first level\")\n",
      "print(deep_and_wide_array[0, ::2])\n",
      "print(\"every other row and column of all levels\")\n",
      "print(deep_and_wide_array[:, ::2, ::2])\n",
      "print(\"the last row of every level\")\n",
      "print(deep_and_wide_array[:, -1, :])\n",
      "print(\"the second-to-last level\")\n",
      "print(deep_and_wide_array[-2])"
     ],
     "language": "python",
     "metadata": {},
     "outputs": [
      {
       "output_type": "stream",
       "stream": "stdout",
       "text": [
        "every other row of first level\n",
        "[[0 1 2]\n",
        " [6 7 8]]\n",
        "every other row and column of all levels\n",
        "[[[ 0  2]\n",
        "  [ 6  8]]\n",
        "\n",
        " [[ 9 11]\n",
        "  [15 17]]\n",
        "\n",
        " [[18 20]\n",
        "  [24 26]]\n",
        "\n",
        " [[27 29]\n",
        "  [33 35]]\n",
        "\n",
        " [[36 38]\n",
        "  [42 44]]]\n",
        "the last row of every level\n",
        "[[ 6  7  8]\n",
        " [15 16 17]\n",
        " [24 25 26]\n",
        " [33 34 35]\n",
        " [42 43 44]]\n",
        "the second-to-last level\n",
        "[[27 28 29]\n",
        " [30 31 32]\n",
        " [33 34 35]]\n"
       ]
      }
     ],
     "prompt_number": 19
    },
    {
     "cell_type": "markdown",
     "metadata": {},
     "source": [
      "**Exercise:** Can you name some type of data that you would store in a 1D array? 2D? 3D? 4D? 5D?"
     ]
    },
    {
     "cell_type": "markdown",
     "metadata": {},
     "source": [
      "- 1D data: a series of independent measurements, a series of repeated measurements over time\n",
      "- 2D data: a grayscale image, a set of measurements of many properties (1st D) for many independent samples (2nd D)\n",
      "- 3D data: a 3D confocal image, a 2D image with multiple channels, air pressure data sampled at regular intervals along three dimensions\n",
      "- 4D data: any 3D data changing over time, a 3D confocal image with multiple channels\n",
      "- 5D data: a 3D confocal image with multiple channels changing over time"
     ]
    },
    {
     "cell_type": "markdown",
     "metadata": {},
     "source": [
      "## Boolean indexing"
     ]
    },
    {
     "cell_type": "markdown",
     "metadata": {},
     "source": [
      "You can also access arrays using a *boolean mask*:"
     ]
    },
    {
     "cell_type": "code",
     "collapsed": false,
     "input": [
      "small_nonzero_numbers = (deep_and_wide_array < 10) & (deep_and_wide_array > 0)\n",
      "print(type(small_nonzero_numbers))\n",
      "print(small_nonzero_numbers.dtype)"
     ],
     "language": "python",
     "metadata": {},
     "outputs": [
      {
       "output_type": "stream",
       "stream": "stdout",
       "text": [
        "<type 'numpy.ndarray'>\n",
        "bool\n"
       ]
      }
     ],
     "prompt_number": 20
    },
    {
     "cell_type": "code",
     "collapsed": false,
     "input": [
      "deep_and_wide_array[small_nonzero_numbers]"
     ],
     "language": "python",
     "metadata": {},
     "outputs": [
      {
       "metadata": {},
       "output_type": "pyout",
       "prompt_number": 21,
       "text": [
        "array([1, 2, 3, 4, 5, 6, 7, 8, 9])"
       ]
      }
     ],
     "prompt_number": 21
    },
    {
     "cell_type": "markdown",
     "metadata": {},
     "source": [
      "**Exercise:** Use a boolean mask to find all data in the `deep_and_wide_array` that is greater than 30 and that is even."
     ]
    },
    {
     "cell_type": "code",
     "collapsed": false,
     "input": [
      "even_gt30 = (deep_and_wide_array > 30) & (deep_and_wide_array % 2 == 0)\n",
      "print(deep_and_wide_array[even_gt30])"
     ],
     "language": "python",
     "metadata": {},
     "outputs": [
      {
       "output_type": "stream",
       "stream": "stdout",
       "text": [
        "[32 34 36 38 40 42 44]\n"
       ]
      }
     ],
     "prompt_number": 22
    },
    {
     "cell_type": "markdown",
     "metadata": {},
     "source": [
      "## Memory layout"
     ]
    },
    {
     "cell_type": "markdown",
     "metadata": {},
     "source": [
      "NumPy's multidimensional capability is provided by two properties of the array, shape and strides:"
     ]
    },
    {
     "cell_type": "code",
     "collapsed": false,
     "input": [
      "print(deep_and_wide_array.shape)\n",
      "print(deep_and_wide_array.strides)"
     ],
     "language": "python",
     "metadata": {},
     "outputs": [
      {
       "output_type": "stream",
       "stream": "stdout",
       "text": [
        "(5, 3, 3)\n",
        "(72, 24, 8)\n"
       ]
      }
     ],
     "prompt_number": 23
    },
    {
     "cell_type": "markdown",
     "metadata": {},
     "source": [
      "It's natural to think of a 3D array as a box of little cubes. Each cube holds a number (our data). However, a computer's memory is more like a long line of little cubes (bytes). NumPy needs to know how to take that line of cubes and \"think about it\" as a box. That's what \"shape\" and \"strides\" are for.\n",
      "\n",
      "The *shape* tells NumPy how many cubes are on each side of the box. The *strides* tell NumPy how far along the memory it needs to go to find the next little cube.\n",
      "\n",
      "That lowest stride is 8, because our array contains 64-bit integers, each of which occupies 8 bytes in memory. That's wasteful here: our numbers only go to 44, so we only need a single byte, or 8 bits. (8 bits can represent numbers up to 255.) In memory, our current integers are written with about 56 leading zeros! We can see a glimpse of this using a numpy \"view\", which returns a different way of looking at the same memory:"
     ]
    },
    {
     "cell_type": "code",
     "collapsed": false,
     "input": [
      "look_at_the_zeros = deep_and_wide_array.view(dtype=np.uint8)\n",
      "print(look_at_the_zeros[0])"
     ],
     "language": "python",
     "metadata": {},
     "outputs": [
      {
       "output_type": "stream",
       "stream": "stdout",
       "text": [
        "[[0 0 0 0 0 0 0 0 1 0 0 0 0 0 0 0 2 0 0 0 0 0 0 0]\n",
        " [3 0 0 0 0 0 0 0 4 0 0 0 0 0 0 0 5 0 0 0 0 0 0 0]\n",
        " [6 0 0 0 0 0 0 0 7 0 0 0 0 0 0 0 8 0 0 0 0 0 0 0]]\n"
       ]
      }
     ],
     "prompt_number": 24
    },
    {
     "cell_type": "markdown",
     "metadata": {},
     "source": [
      "The above array, `look_at_the_zeros`, is a *view* of the same memory as our original `deep_and_wide_array`. This gets back to NumPy's memory efficiency: there are many, many operations in NumPy that reuse memory, views being one of them.\n",
      "\n",
      "I actually learned something here! Look how the original numbers appear *before* the \"leading\" zeros. It turns out that's because Intel processors are what's called [*little-endian*](http://en.wikipedia.org/wiki/Endianness), which means that they store the least-significant bytes first.\n",
      "\n",
      "**Exercise:** To convince yourself that these are the same \"memory cubes\", try modifying the second location in memory in `look_at_the_zeros`, and then looking at the first \"level\" of `deep_and_wide_array`."
     ]
    },
    {
     "cell_type": "code",
     "collapsed": false,
     "input": [
      "look_at_the_zeros[0, 0, 1] = 1\n",
      "deep_and_wide_array[0]"
     ],
     "language": "python",
     "metadata": {},
     "outputs": [
      {
       "metadata": {},
       "output_type": "pyout",
       "prompt_number": 25,
       "text": [
        "array([[256,   1,   2],\n",
        "       [  3,   4,   5],\n",
        "       [  6,   7,   8]])"
       ]
      }
     ],
     "prompt_number": 25
    },
    {
     "cell_type": "markdown",
     "metadata": {},
     "source": [
      "# Views, slices, copies"
     ]
    },
    {
     "cell_type": "markdown",
     "metadata": {},
     "source": [
      "NumPy gives you fine-level control over whether you copy memory or access a different \"view\" of the same array. This has consequences for how much memory you're using."
     ]
    },
    {
     "cell_type": "code",
     "collapsed": false,
     "input": [
      "start_watching_memory(get_ipython())"
     ],
     "language": "python",
     "metadata": {},
     "outputs": [
      {
       "output_type": "stream",
       "stream": "stdout",
       "text": [
        "Used 0.4453 MiB RAM in 467.92s, peaked 0.00 MiB above current, total RAM usage 501.23 MiB\n"
       ]
      }
     ],
     "prompt_number": 26
    },
    {
     "cell_type": "code",
     "collapsed": false,
     "input": [
      "a = np.random.rand(1000, 1000)\n",
      "b = a * 2\n",
      "c = np.sqrt(b)"
     ],
     "language": "python",
     "metadata": {},
     "outputs": [
      {
       "output_type": "stream",
       "stream": "stdout",
       "text": [
        "Used 22.9180 MiB RAM in 0.13s, peaked 0.00 MiB above current, total RAM usage 524.14 MiB\n"
       ]
      }
     ],
     "prompt_number": 27
    },
    {
     "cell_type": "code",
     "collapsed": false,
     "input": [
      "a = np.random.rand(1000, 1000)\n",
      "a *= 2\n",
      "a = np.sqrt(a, out=a) # use 'a' as the output array as well"
     ],
     "language": "python",
     "metadata": {},
     "outputs": [
      {
       "output_type": "stream",
       "stream": "stdout",
       "text": [
        "Used 7.6328 MiB RAM in 0.13s, peaked 0.00 MiB above current, total RAM usage 531.78 MiB\n"
       ]
      }
     ],
     "prompt_number": 28
    },
    {
     "cell_type": "code",
     "collapsed": false,
     "input": [
      "half = a.shape[0] / 2\n",
      "top_half, bottom_half = a[:half, :], a[half:, :]"
     ],
     "language": "python",
     "metadata": {},
     "outputs": [
      {
       "output_type": "stream",
       "stream": "stdout",
       "text": [
        "Used 0.0039 MiB RAM in 0.10s, peaked 0.00 MiB above current, total RAM usage 531.78 MiB\n"
       ]
      }
     ],
     "prompt_number": 29
    },
    {
     "cell_type": "code",
     "collapsed": false,
     "input": [
      "print(\"The top left value of a is originally {0}\".format(a[0, 0]))\n",
      "top_half[0, 0] = 0.9\n",
      "print(\"top_half[0, 0] = 0.9\")\n",
      "print(\"The top left value of a is now {0}\".format(a[0, 0]))"
     ],
     "language": "python",
     "metadata": {},
     "outputs": [
      {
       "output_type": "stream",
       "stream": "stdout",
       "text": [
        "The top left value of a is originally 1.32151716373\n",
        "top_half[0, 0] = 0.9\n",
        "The top left value of a is now 0.9\n",
        "Used 0.0117 MiB RAM in 0.11s, peaked 0.00 MiB above current, total RAM usage 531.79 MiB"
       ]
      },
      {
       "output_type": "stream",
       "stream": "stdout",
       "text": [
        "\n"
       ]
      }
     ],
     "prompt_number": 30
    },
    {
     "cell_type": "markdown",
     "metadata": {},
     "source": [
      "`top_half` is just a *view* of the same memory as `a`, so modifying `top_half` modifies `a`, and vice-versa. Sometimes this is good, sometimes it's bad. If you want a new copy of an array, use the `np.copy` function:"
     ]
    },
    {
     "cell_type": "code",
     "collapsed": false,
     "input": [
      "top_half, bottom_half = np.copy(a[:half, :]), np.copy(a[half:, :])"
     ],
     "language": "python",
     "metadata": {},
     "outputs": [
      {
       "output_type": "stream",
       "stream": "stdout",
       "text": [
        "Used 7.6328 MiB RAM in 0.11s, peaked 0.00 MiB above current, total RAM usage 539.43 MiB\n"
       ]
      }
     ],
     "prompt_number": 31
    },
    {
     "cell_type": "code",
     "collapsed": false,
     "input": [
      "print(\"The top left of a is originally {0}\".format(a[0, 0]))\n",
      "top_half[0, 0] = 0.1\n",
      "print(\"top_half[0, 0] = 0.1\")\n",
      "print(\"The top left value of a is now {0}\".format(a[0, 0]))"
     ],
     "language": "python",
     "metadata": {},
     "outputs": [
      {
       "output_type": "stream",
       "stream": "stdout",
       "text": [
        "The top left of a is originally 0.9\n",
        "top_half[0, 0] = 0.1\n",
        "The top left value of a is now 0.9\n",
        "Used 0.0000 MiB RAM in 0.11s, peaked 0.00 MiB above current, total RAM usage 539.43 MiB"
       ]
      },
      {
       "output_type": "stream",
       "stream": "stdout",
       "text": [
        "\n"
       ]
      }
     ],
     "prompt_number": 32
    },
    {
     "cell_type": "markdown",
     "metadata": {},
     "source": [
      "This is also true for *discontiguous* slices:"
     ]
    },
    {
     "cell_type": "code",
     "collapsed": false,
     "input": [
      "evens, odds = a[0::2, :], a[1::2, :]"
     ],
     "language": "python",
     "metadata": {},
     "outputs": [
      {
       "output_type": "stream",
       "stream": "stdout",
       "text": [
        "Used 0.0000 MiB RAM in 0.10s, peaked 0.00 MiB above current, total RAM usage 539.43 MiB\n"
       ]
      }
     ],
     "prompt_number": 33
    },
    {
     "cell_type": "code",
     "collapsed": false,
     "input": [
      "print(\"The first second-row value of a is originally {0}\".format(a[1, 0]))\n",
      "odds[0, 0] = 0.1\n",
      "print(\"odds[0, 0] = 0.1\")\n",
      "print(\"The first second-row value of a is now {0}\".format(a[1, 0]))"
     ],
     "language": "python",
     "metadata": {},
     "outputs": [
      {
       "output_type": "stream",
       "stream": "stdout",
       "text": [
        "The first second-row value of a is originally 1.0489224934\n",
        "odds[0, 0] = 0.1\n",
        "The first second-row value of a is now 0.1\n",
        "Used 0.0000 MiB RAM in 0.10s, peaked 0.00 MiB above current, total RAM usage 539.43 MiB"
       ]
      },
      {
       "output_type": "stream",
       "stream": "stdout",
       "text": [
        "\n"
       ]
      }
     ],
     "prompt_number": 34
    },
    {
     "cell_type": "code",
     "collapsed": false,
     "input": [
      "stop_watching_memory(get_ipython())"
     ],
     "language": "python",
     "metadata": {},
     "outputs": [],
     "prompt_number": 35
    },
    {
     "cell_type": "markdown",
     "metadata": {},
     "source": [
      "# Computing along axes"
     ]
    },
    {
     "cell_type": "markdown",
     "metadata": {},
     "source": [
      "NumPy provides many convenience functions to compute, for example, the *mean* and *variance* of an array:"
     ]
    },
    {
     "cell_type": "code",
     "collapsed": false,
     "input": [
      "np.mean(deep_and_wide_array)"
     ],
     "language": "python",
     "metadata": {},
     "outputs": [
      {
       "metadata": {},
       "output_type": "pyout",
       "prompt_number": 36,
       "text": [
        "27.68888888888889"
       ]
      }
     ],
     "prompt_number": 36
    },
    {
     "cell_type": "code",
     "collapsed": false,
     "input": [
      "np.var(deep_and_wide_array)"
     ],
     "language": "python",
     "metadata": {},
     "outputs": [
      {
       "metadata": {},
       "output_type": "pyout",
       "prompt_number": 37,
       "text": [
        "1342.3476543209872"
       ]
      }
     ],
     "prompt_number": 37
    },
    {
     "cell_type": "code",
     "collapsed": false,
     "input": [
      "np.std(deep_and_wide_array)"
     ],
     "language": "python",
     "metadata": {},
     "outputs": [
      {
       "metadata": {},
       "output_type": "pyout",
       "prompt_number": 38,
       "text": [
        "36.638062917149256"
       ]
      }
     ],
     "prompt_number": 38
    },
    {
     "cell_type": "markdown",
     "metadata": {},
     "source": [
      "One of the killer features of NumPy is its ability to compute these functions *along axes*:"
     ]
    },
    {
     "cell_type": "code",
     "collapsed": false,
     "input": [
      "np.mean(deep_and_wide_array, axis=0)"
     ],
     "language": "python",
     "metadata": {},
     "outputs": [
      {
       "metadata": {},
       "output_type": "pyout",
       "prompt_number": 39,
       "text": [
        "array([[ 69.2,  19. ,  20. ],\n",
        "       [ 21. ,  22. ,  23. ],\n",
        "       [ 24. ,  25. ,  26. ]])"
       ]
      }
     ],
     "prompt_number": 39
    },
    {
     "cell_type": "code",
     "collapsed": false,
     "input": [
      "np.std(deep_and_wide_array, axis=0)"
     ],
     "language": "python",
     "metadata": {},
     "outputs": [
      {
       "metadata": {},
       "output_type": "pyout",
       "prompt_number": 40,
       "text": [
        "array([[ 93.83261693,  12.72792206,  12.72792206],\n",
        "       [ 12.72792206,  12.72792206,  12.72792206],\n",
        "       [ 12.72792206,  12.72792206,  12.72792206]])"
       ]
      }
     ],
     "prompt_number": 40
    },
    {
     "cell_type": "code",
     "collapsed": false,
     "input": [
      "np.mean(deep_and_wide_array, axis=1)"
     ],
     "language": "python",
     "metadata": {},
     "outputs": [
      {
       "metadata": {},
       "output_type": "pyout",
       "prompt_number": 41,
       "text": [
        "array([[ 88.33333333,   4.        ,   5.        ],\n",
        "       [ 12.        ,  13.        ,  14.        ],\n",
        "       [ 21.        ,  22.        ,  23.        ],\n",
        "       [ 30.        ,  31.        ,  32.        ],\n",
        "       [ 39.        ,  40.        ,  41.        ]])"
       ]
      }
     ],
     "prompt_number": 41
    },
    {
     "cell_type": "markdown",
     "metadata": {},
     "source": [
      "SciPy extends this convention with its own statistics library. For example, we can compute the 5th percentile along an axis:"
     ]
    },
    {
     "cell_type": "code",
     "collapsed": false,
     "input": [
      "from scipy.stats import mstats\n",
      "mstats.mquantiles(deep_and_wide_array, prob=[0.05], axis=0)"
     ],
     "language": "python",
     "metadata": {},
     "outputs": [
      {
       "ename": "TypeError",
       "evalue": "Array should be 2D at most !",
       "output_type": "pyerr",
       "traceback": [
        "\u001b[0;31m---------------------------------------------------------------------------\u001b[0m\n\u001b[0;31mTypeError\u001b[0m                                 Traceback (most recent call last)",
        "\u001b[0;32m<ipython-input-42-a5402541b581>\u001b[0m in \u001b[0;36m<module>\u001b[0;34m()\u001b[0m\n\u001b[1;32m      1\u001b[0m \u001b[0;32mfrom\u001b[0m \u001b[0mscipy\u001b[0m\u001b[0;34m.\u001b[0m\u001b[0mstats\u001b[0m \u001b[0;32mimport\u001b[0m \u001b[0mmstats\u001b[0m\u001b[0;34m\u001b[0m\u001b[0m\n\u001b[0;32m----> 2\u001b[0;31m \u001b[0mmstats\u001b[0m\u001b[0;34m.\u001b[0m\u001b[0mmquantiles\u001b[0m\u001b[0;34m(\u001b[0m\u001b[0mdeep_and_wide_array\u001b[0m\u001b[0;34m,\u001b[0m \u001b[0mprob\u001b[0m\u001b[0;34m=\u001b[0m\u001b[0;34m[\u001b[0m\u001b[0;36m0.05\u001b[0m\u001b[0;34m]\u001b[0m\u001b[0;34m,\u001b[0m \u001b[0maxis\u001b[0m\u001b[0;34m=\u001b[0m\u001b[0;36m0\u001b[0m\u001b[0;34m)\u001b[0m\u001b[0;34m\u001b[0m\u001b[0m\n\u001b[0m",
        "\u001b[0;32m/Users/nuneziglesiasj/anaconda/envs/tut/lib/python2.7/site-packages/scipy/stats/mstats_basic.pyc\u001b[0m in \u001b[0;36mmquantiles\u001b[0;34m(a, prob, alphap, betap, axis, limit)\u001b[0m\n\u001b[1;32m   1830\u001b[0m     \u001b[0mdata\u001b[0m \u001b[0;34m=\u001b[0m \u001b[0mma\u001b[0m\u001b[0;34m.\u001b[0m\u001b[0marray\u001b[0m\u001b[0;34m(\u001b[0m\u001b[0ma\u001b[0m\u001b[0;34m,\u001b[0m \u001b[0mcopy\u001b[0m\u001b[0;34m=\u001b[0m\u001b[0mFalse\u001b[0m\u001b[0;34m)\u001b[0m\u001b[0;34m\u001b[0m\u001b[0m\n\u001b[1;32m   1831\u001b[0m     \u001b[0;32mif\u001b[0m \u001b[0mdata\u001b[0m\u001b[0;34m.\u001b[0m\u001b[0mndim\u001b[0m \u001b[0;34m>\u001b[0m \u001b[0;36m2\u001b[0m\u001b[0;34m:\u001b[0m\u001b[0;34m\u001b[0m\u001b[0m\n\u001b[0;32m-> 1832\u001b[0;31m         \u001b[0;32mraise\u001b[0m \u001b[0mTypeError\u001b[0m\u001b[0;34m(\u001b[0m\u001b[0;34m\"Array should be 2D at most !\"\u001b[0m\u001b[0;34m)\u001b[0m\u001b[0;34m\u001b[0m\u001b[0m\n\u001b[0m\u001b[1;32m   1833\u001b[0m     \u001b[0;31m#\u001b[0m\u001b[0;34m\u001b[0m\u001b[0;34m\u001b[0m\u001b[0m\n\u001b[1;32m   1834\u001b[0m     \u001b[0;32mif\u001b[0m \u001b[0mlimit\u001b[0m\u001b[0;34m:\u001b[0m\u001b[0;34m\u001b[0m\u001b[0m\n",
        "\u001b[0;31mTypeError\u001b[0m: Array should be 2D at most !"
       ]
      }
     ],
     "prompt_number": 42
    },
    {
     "cell_type": "markdown",
     "metadata": {},
     "source": [
      "Uh oh! Looks like the mquantiles module is limited to 2D data. Can you think of how to get around it?"
     ]
    },
    {
     "cell_type": "code",
     "collapsed": false,
     "input": [
      "print(mstats.mquantiles(deep_and_wide_array.reshape(5, 9), prob=[0.05], axis=0).reshape(3, 3))"
     ],
     "language": "python",
     "metadata": {},
     "outputs": [
      {
       "output_type": "stream",
       "stream": "stdout",
       "text": [
        "[[ 9.  1.  2.]\n",
        " [ 3.  4.  5.]\n",
        " [ 6.  7.  8.]]\n"
       ]
      }
     ],
     "prompt_number": 44
    },
    {
     "cell_type": "markdown",
     "metadata": {},
     "source": [
      "# Quantile normalisation of expression data"
     ]
    },
    {
     "cell_type": "markdown",
     "metadata": {},
     "source": [
      "This is a quick demonstration of using axis-wise computation and fancy indexing to perform a common (though I think slightly outdated) method of normalising expression data, [quantile normalisation](http://en.wikipedia.org/wiki/Quantile_normalization)."
     ]
    },
    {
     "cell_type": "markdown",
     "metadata": {},
     "source": [
      "First, we load the data using `np.loadtxt`:"
     ]
    },
    {
     "cell_type": "code",
     "collapsed": false,
     "input": [
      "expr = np.loadtxt('coriell_3s_data_20rows.tsv', delimiter='\\t', skiprows=1,\n",
      "                  usecols=np.arange(1, 7), dtype=int)\n",
      "print(expr)"
     ],
     "language": "python",
     "metadata": {},
     "outputs": [
      {
       "output_type": "stream",
       "stream": "stdout",
       "text": [
        "[[   6    3    1    4    3    5]\n",
        " [   0    0    0    0    0    0]\n",
        " [1256  900  825 1027  883 1472]\n",
        " [ 508  272  289  297  261  264]\n",
        " [ 796  528  431  492  548  428]\n",
        " [3761 2062 2925 2811 2122 2865]\n",
        " [   0    0    0    0    1    0]\n",
        " [ 539  368  323  364  411  565]\n",
        " [ 470  361  228  369  370  344]\n",
        " [1414  785  753  784  816  651]\n",
        " [ 104   56   72   88   55   70]\n",
        " [ 831  472  589  439  424  387]\n",
        " [2471 1493 1512 1492 1570 1424]\n",
        " [1459  759  503  895  522  696]\n",
        " [   4    3    2    3    3    2]\n",
        " [   6    2    0    0    0    0]\n",
        " [3462 2062 1986 2271 1989 1899]\n",
        " [ 218   43   22   66   77   31]\n",
        " [1296  682  646  747  811  861]]\n"
       ]
      }
     ],
     "prompt_number": 45
    },
    {
     "cell_type": "markdown",
     "metadata": {},
     "source": [
      "(Only columns 1-7 contain the actual expression data, and row 0 is just the sample header so we skip it. Here we are only interested in the numerical data.)\n",
      "\n",
      "Next, we take the log2 of 1 + the data, which is common for expression data. (Why is beyond the scope of this tutorial!)"
     ]
    },
    {
     "cell_type": "code",
     "collapsed": false,
     "input": [
      "logexpr = np.log2(expr + 1)\n",
      "print(np.round(logexpr, 2)) # round to 2 decimal places just for pretty printing"
     ],
     "language": "python",
     "metadata": {},
     "outputs": [
      {
       "output_type": "stream",
       "stream": "stdout",
       "text": [
        "[[  2.81   2.     1.     2.32   2.     2.58]\n",
        " [  0.     0.     0.     0.     0.     0.  ]\n",
        " [ 10.3    9.82   9.69  10.01   9.79  10.52]\n",
        " [  8.99   8.09   8.18   8.22   8.03   8.05]\n",
        " [  9.64   9.05   8.75   8.95   9.1    8.74]\n",
        " [ 11.88  11.01  11.51  11.46  11.05  11.48]\n",
        " [  0.     0.     0.     0.     1.     0.  ]\n",
        " [  9.08   8.53   8.34   8.51   8.69   9.14]\n",
        " [  8.88   8.5    7.84   8.53   8.54   8.43]\n",
        " [ 10.47   9.62   9.56   9.62   9.67   9.35]\n",
        " [  6.71   5.83   6.19   6.48   5.81   6.15]\n",
        " [  9.7    8.89   9.2    8.78   8.73   8.6 ]\n",
        " [ 11.27  10.54  10.56  10.54  10.62  10.48]\n",
        " [ 10.51   9.57   8.98   9.81   9.03   9.45]\n",
        " [  2.32   2.     1.58   2.     2.     1.58]\n",
        " [  2.81   1.58   0.     0.     0.     0.  ]\n",
        " [ 11.76  11.01  10.96  11.15  10.96  10.89]\n",
        " [  7.77   5.46   4.52   6.07   6.29   5.  ]\n",
        " [ 10.34   9.42   9.34   9.55   9.67   9.75]]\n"
       ]
      }
     ],
     "prompt_number": 46
    },
    {
     "cell_type": "markdown",
     "metadata": {},
     "source": [
      "Then, figure out the expression quantiles, that is, the average value of the nth-ranked observation for all n."
     ]
    },
    {
     "cell_type": "code",
     "collapsed": false,
     "input": [
      "log_quantiles = np.mean(np.sort(logexpr, axis=0), axis=1)\n",
      "print(np.round(log_quantiles, 2))"
     ],
     "language": "python",
     "metadata": {},
     "outputs": [
      {
       "output_type": "stream",
       "stream": "stdout",
       "text": [
        "[  0.     0.     0.82   1.9    2.22   5.6    6.45   8.19   8.52   8.63\n",
        "   8.92   9.14   9.49   9.66   9.81  10.05  10.68  11.12  11.4 ]\n"
       ]
      }
     ],
     "prompt_number": 47
    },
    {
     "cell_type": "markdown",
     "metadata": {},
     "source": [
      "Get the rank of each expression value in its own sample (column)"
     ]
    },
    {
     "cell_type": "code",
     "collapsed": false,
     "input": [
      "ranks = np.argsort(np.argsort(expr, axis=0), axis=0)\n",
      "print(ranks)"
     ],
     "language": "python",
     "metadata": {},
     "outputs": [
      {
       "output_type": "stream",
       "stream": "stdout",
       "text": [
        "[[ 3  3  3  4  3  4]\n",
        " [ 0  0  0  0  0  0]\n",
        " [12 15 15 15 15 16]\n",
        " [ 8  7  8  7  7  7]\n",
        " [10 11 10 11 12 10]\n",
        " [18 17 18 18 18 18]\n",
        " [ 1  1  2  2  2  2]\n",
        " [ 9  9  9  8  9 11]\n",
        " [ 7  8  7  9  8  8]\n",
        " [14 14 14 13 14 12]\n",
        " [ 5  6  6  6  5  6]\n",
        " [11 10 12 10 10  9]\n",
        " [16 16 16 16 16 15]\n",
        " [15 13 11 14 11 13]\n",
        " [ 2  4  4  3  4  3]\n",
        " [ 4  2  1  1  1  1]\n",
        " [17 18 17 17 17 17]\n",
        " [ 6  5  5  5  6  5]\n",
        " [13 12 13 12 13 14]]\n"
       ]
      }
     ],
     "prompt_number": 48
    },
    {
     "cell_type": "markdown",
     "metadata": {},
     "source": [
      "(Note: have a look at the [documentation for `np.argsort`](http://docs.scipy.org/doc/numpy/reference/generated/numpy.argsort.html). Why did we have to apply it twice?)"
     ]
    },
    {
     "cell_type": "markdown",
     "metadata": {},
     "source": [
      "Then, the *coup de gr\u00e2ce*, we use the `ranks` array *itself* to index quantiles, thus replacing each rank value with the quantile value:"
     ]
    },
    {
     "cell_type": "code",
     "collapsed": false,
     "input": [
      "log_quantile_normalised = log_quantiles[ranks]\n",
      "print(np.round(log_quantile_normalised, 2))"
     ],
     "language": "python",
     "metadata": {},
     "outputs": [
      {
       "output_type": "stream",
       "stream": "stdout",
       "text": [
        "[[  1.9    1.9    1.9    2.22   1.9    2.22]\n",
        " [  0.     0.     0.     0.     0.     0.  ]\n",
        " [  9.49  10.05  10.05  10.05  10.05  10.68]\n",
        " [  8.52   8.19   8.52   8.19   8.19   8.19]\n",
        " [  8.92   9.14   8.92   9.14   9.49   8.92]\n",
        " [ 11.4   11.12  11.4   11.4   11.4   11.4 ]\n",
        " [  0.     0.     0.82   0.82   0.82   0.82]\n",
        " [  8.63   8.63   8.63   8.52   8.63   9.14]\n",
        " [  8.19   8.52   8.19   8.63   8.52   8.52]\n",
        " [  9.81   9.81   9.81   9.66   9.81   9.49]\n",
        " [  5.6    6.45   6.45   6.45   5.6    6.45]\n",
        " [  9.14   8.92   9.49   8.92   8.92   8.63]\n",
        " [ 10.68  10.68  10.68  10.68  10.68  10.05]\n",
        " [ 10.05   9.66   9.14   9.81   9.14   9.66]\n",
        " [  0.82   2.22   2.22   1.9    2.22   1.9 ]\n",
        " [  2.22   0.82   0.     0.     0.     0.  ]\n",
        " [ 11.12  11.4   11.12  11.12  11.12  11.12]\n",
        " [  6.45   5.6    5.6    5.6    6.45   5.6 ]\n",
        " [  9.66   9.49   9.66   9.49   9.66   9.81]]\n"
       ]
      }
     ],
     "prompt_number": 50
    },
    {
     "cell_type": "markdown",
     "metadata": {},
     "source": [
      "Finally, we convert the data back to integer counts:"
     ]
    },
    {
     "cell_type": "code",
     "collapsed": false,
     "input": [
      "quantile_normalised = (2**log_quantile_normalised - 1).astype(int)\n",
      "print(np.hstack((expr, np.zeros((19, 1), int), quantile_normalised))) # print side by side to compare"
     ],
     "language": "python",
     "metadata": {},
     "outputs": [
      {
       "output_type": "stream",
       "stream": "stdout",
       "text": [
        "[[   6    3    1    4    3    5    0    2    2    2    3    2    3]\n",
        " [   0    0    0    0    0    0    0    0    0    0    0    0    0]\n",
        " [1256  900  825 1027  883 1472    0  715 1057 1057 1057 1057 1636]\n",
        " [ 508  272  289  297  261  264    0  367  290  367  290  290  290]\n",
        " [ 796  528  431  492  548  428    0  484  563  484  563  715  484]\n",
        " [3761 2062 2925 2811 2122 2865    0 2700 2225 2700 2700 2700 2700]\n",
        " [   0    0    0    0    1    0    0    0    0    0    0    0    0]\n",
        " [ 539  368  323  364  411  565    0  394  394  394  367  394  563]\n",
        " [ 470  361  228  369  370  344    0  290  367  290  394  367  367]\n",
        " [1414  785  753  784  816  651    0  898  898  898  809  898  715]\n",
        " [ 104   56   72   88   55   70    0   47   86   86   86   47   86]\n",
        " [ 831  472  589  439  424  387    0  563  484  715  484  484  394]\n",
        " [2471 1493 1512 1492 1570 1424    0 1636 1636 1636 1636 1636 1057]\n",
        " [1459  759  503  895  522  696    0 1057  809  563  898  563  809]\n",
        " [   4    3    2    3    3    2    0    0    3    3    2    3    2]\n",
        " [   6    2    0    0    0    0    0    3    0    0    0    0    0]\n",
        " [3462 2062 1986 2271 1989 1899    0 2225 2700 2225 2225 2225 2225]\n",
        " [ 218   43   22   66   77   31    0   86   47   47   47   86   47]\n",
        " [1296  682  646  747  811  861    0  809  715  809  715  809  898]]\n"
       ]
      }
     ],
     "prompt_number": 51
    },
    {
     "cell_type": "code",
     "collapsed": false,
     "input": [
      "%reload_ext load_style\n",
      "%load_style ../themes/tutorial.css"
     ],
     "language": "python",
     "metadata": {},
     "outputs": [
      {
       "html": [
        "<style>\n",
        "@import url('http://fonts.googleapis.com/css?family=Inconsolata');\n",
        "\n",
        ".rendered_html {\n",
        "    font-family: Georgia, serif;\n",
        "    font-size: 130%;\n",
        "    line-height: 1.5;\n",
        "}\n",
        "\n",
        ".input {\n",
        "    width: 930px;\n",
        "}\n",
        "\n",
        ".inner_cell {\n",
        "    width: 800px;\n",
        "}\n",
        "\n",
        ".code_cell {\n",
        "    width: 800px;\n",
        "}\n",
        "\n",
        ".CodeMirror-sizer {\n",
        "}\n",
        "\n",
        "hr {\n",
        "    border: 1px solid #DDD;\n",
        "}\n",
        "\n",
        ".rendered_html h1 {\n",
        "    margin: 0.25em 0em 0.5em;\n",
        "    font-family: sans-serif;\n",
        "    color: #015C9C;\n",
        "    text-align: center;\n",
        "    line-height: 1.2;\n",
        "    page-break-before: always;\n",
        "}\n",
        "\n",
        ".rendered_html h2 {\n",
        "    margin: 1.1em 0em 0.5em;\n",
        "    font-family: sans-serif;\n",
        "    color: #26465D;\n",
        "    line-height: 1.2;\n",
        "}\n",
        "\n",
        ".rendered_html h3 {\n",
        "    font-family: sans-serif;\n",
        "    margin: 1.1em 0em 0.5em;\n",
        "    color: #002845;\n",
        "    line-height: 1.2;\n",
        "}\n",
        "\n",
        ".rendered_html li {\n",
        "    line-height: 1.5;\n",
        "}\n",
        "\n",
        ".CodeMirror-lines {\n",
        "    font-size: 110%;\n",
        "    line-height: 1.5em;\n",
        "    font-family: Inconsolata, DejaVu Sans Mono, Consolas, Ubuntu, monospace;\n",
        "}\n",
        "\n",
        "code {\n",
        "    font-family: Inconsolata, monospace;\n",
        "}\n",
        "\n",
        ".output {\n",
        "    font-family: Inconsolata, DejaVu Sans Mono, Consolas, Ubuntu, monospace;\n",
        "}\n",
        "\n",
        "h1.bigtitle {\n",
        "    margin: 4cm 1cm 4cm 1cm;\n",
        "    font-size: 300%;\n",
        "}\n",
        "\n",
        "h3.point {\n",
        "    font-size: 200%;\n",
        "    text-align: center;\n",
        "    margin: 2em 0em 2em 0em;\n",
        "    #26465D\n",
        "}\n",
        "\n",
        ".logo {\n",
        "    margin: 20px 0 20px 0;\n",
        "}\n",
        "\n",
        "a.anchor-link {\n",
        "    display: none;\n",
        "}\n",
        "\n",
        "h1.title {\n",
        "    font-size: 250%;\n",
        "}\n",
        "\n",
        ".exercize {\n",
        "    color: #738;\n",
        "}\n",
        "\n",
        "h2 .exercize {\n",
        "    font-style: italic;\n",
        "}\n",
        "\n",
        "</style>"
       ],
       "metadata": {},
       "output_type": "display_data",
       "text": [
        "<IPython.core.display.HTML at 0x1069e5c90>"
       ]
      }
     ],
     "prompt_number": 1
    }
   ],
   "metadata": {}
  }
 ]
}