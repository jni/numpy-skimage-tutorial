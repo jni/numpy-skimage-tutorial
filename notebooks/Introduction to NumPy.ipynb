{
 "metadata": {
  "name": "",
  "signature": "sha256:f4a2d269fd5c0c61bad46e83d55c8cc53a5b8a6a33be54365788bb2f752bc52d"
 },
 "nbformat": 3,
 "nbformat_minor": 0,
 "worksheets": [
  {
   "cells": [
    {
     "cell_type": "markdown",
     "metadata": {},
     "source": [
      "# What is NumPy?"
     ]
    },
    {
     "cell_type": "markdown",
     "metadata": {},
     "source": [
      "NumPy is short for \"Numeric Python\". It is the basis for nearly all scientific computation in the Python world. Its main contribution is the NumPy `ndarray`. (See \"The NumPy array: a structure for efficient numerical computation\", Van der Walt S. et al, 2011. [arXiv link](http://arxiv.org/abs/1102.1523))"
     ]
    },
    {
     "cell_type": "markdown",
     "metadata": {},
     "source": [
      "# Why use NumPy?\n",
      "\n",
      "## Reason 1: memory usage"
     ]
    },
    {
     "cell_type": "code",
     "collapsed": false,
     "input": [
      "%run -i ipython_memory_usage.py"
     ],
     "language": "python",
     "metadata": {},
     "outputs": [
      {
       "output_type": "stream",
       "stream": "stdout",
       "text": [
        "'get_ipython().magic(u'run -i ipython_memory_usage.py')' used 0.0039 MiB RAM in 0.11s, peaked 0.00 MiB above current, total RAM usage 27.55 MiB\n"
       ]
      }
     ],
     "prompt_number": 2
    },
    {
     "cell_type": "code",
     "collapsed": false,
     "input": [
      "long_list = list(range(int(1e7)))"
     ],
     "language": "python",
     "metadata": {},
     "outputs": [
      {
       "output_type": "stream",
       "stream": "stdout",
       "text": [
        "'long_list = list(range(int(1e7)))' used 386.8711 MiB RAM in 0.45s, peaked 0.00 MiB above current, total RAM usage 415.09 MiB\n"
       ]
      }
     ],
     "prompt_number": 5
    },
    {
     "cell_type": "code",
     "collapsed": false,
     "input": [
      "import numpy as np"
     ],
     "language": "python",
     "metadata": {},
     "outputs": []
    },
    {
     "cell_type": "code",
     "collapsed": false,
     "input": [
      "long_array = np.arange(1e7, dtype=int)"
     ],
     "language": "python",
     "metadata": {},
     "outputs": [
      {
       "output_type": "stream",
       "stream": "stdout",
       "text": [
        "'import numpy as np\n",
        "long_array = np.arange(1e7, dtype=int)' used 76.3125 MiB RAM in 0.15s, peaked 0.00 MiB above current, total RAM usage 499.81 MiB\n"
       ]
      }
     ],
     "prompt_number": 8
    },
    {
     "cell_type": "markdown",
     "metadata": {},
     "source": [
      "## Reason 2: multidimensional"
     ]
    },
    {
     "cell_type": "code",
     "collapsed": false,
     "input": [
      "wide_array = np.arange(45).reshape(5, 9)\n",
      "print(wide_array)"
     ],
     "language": "python",
     "metadata": {},
     "outputs": [
      {
       "output_type": "stream",
       "stream": "stdout",
       "text": [
        "[[ 0  1  2  3  4  5  6  7  8]\n",
        " [ 9 10 11 12 13 14 15 16 17]\n",
        " [18 19 20 21 22 23 24 25 26]\n",
        " [27 28 29 30 31 32 33 34 35]\n",
        " [36 37 38 39 40 41 42 43 44]]\n",
        "'wide_array = np.arange(45).reshape(5, 9)\n",
        "print(wide_array)' used 0.2266 MiB RAM in 0.12s, peaked 0.00 MiB above current, total RAM usage 500.04 MiB"
       ]
      },
      {
       "output_type": "stream",
       "stream": "stdout",
       "text": [
        "\n"
       ]
      }
     ],
     "prompt_number": 9
    },
    {
     "cell_type": "code",
     "collapsed": false,
     "input": [
      "wide_and_deep_array = wide_array.reshape((5, 3, 3))\n",
      "print(wide_and_deep_array)"
     ],
     "language": "python",
     "metadata": {},
     "outputs": [
      {
       "output_type": "stream",
       "stream": "stdout",
       "text": [
        "[[[ 0  1  2]\n",
        "  [ 3  4  5]\n",
        "  [ 6  7  8]]\n",
        "\n",
        " [[ 9 10 11]\n",
        "  [12 13 14]\n",
        "  [15 16 17]]\n",
        "\n",
        " [[18 19 20]\n",
        "  [21 22 23]\n",
        "  [24 25 26]]\n",
        "\n",
        " [[27 28 29]\n",
        "  [30 31 32]\n",
        "  [33 34 35]]\n",
        "\n",
        " [[36 37 38]\n",
        "  [39 40 41]\n",
        "  [42 43 44]]]\n",
        "'wide_and_deep_array = wide_array.reshape((5, 3, 3))\n",
        "print(wide_and_deep_array)' used 0.0117 MiB RAM in 0.10s, peaked 0.00 MiB above current, total RAM usage 500.05 MiB"
       ]
      },
      {
       "output_type": "stream",
       "stream": "stdout",
       "text": [
        "\n"
       ]
      }
     ],
     "prompt_number": 10
    },
    {
     "cell_type": "markdown",
     "metadata": {},
     "source": [
      "This capability is provided by two properties of the array: shape and strides:"
     ]
    },
    {
     "cell_type": "code",
     "collapsed": false,
     "input": [
      "print(wide_and_deep_array.shape)\n",
      "print(wide_and_deep_array.strides)"
     ],
     "language": "python",
     "metadata": {},
     "outputs": [
      {
       "output_type": "stream",
       "stream": "stdout",
       "text": [
        "(5, 3, 3)\n",
        "(72, 24, 8)\n",
        "'print(wide_and_deep_array.shape)\n",
        "print(wide_and_deep_array.strides)' used 0.0039 MiB RAM in 0.10s, peaked 0.00 MiB above current, total RAM usage 500.05 MiB"
       ]
      },
      {
       "output_type": "stream",
       "stream": "stdout",
       "text": [
        "\n"
       ]
      }
     ],
     "prompt_number": 11
    },
    {
     "cell_type": "markdown",
     "metadata": {},
     "source": [
      "That lowest stride is 8, because our array contains 64-bit integers, each of which occupies 8 bytes in memory. That's wasteful here: our numbers only go to 44, so we only need a single byte, or 8 bits. (8 bits can represent numbers up to 255.) In memory, our current integers are written with about 56 leading zeros! We can see a glimpse of this using a numpy \"view\", which returns a different way of looking at the same memory:"
     ]
    },
    {
     "cell_type": "code",
     "collapsed": false,
     "input": [
      "look_at_the_zeros = wide_and_deep_array.view(dtype=np.uint8)\n",
      "print(look_at_the_zeros[0])"
     ],
     "language": "python",
     "metadata": {},
     "outputs": [
      {
       "output_type": "stream",
       "stream": "stdout",
       "text": [
        "[[0 0 0 0 0 0 0 0 1 0 0 0 0 0 0 0 2 0 0 0 0 0 0 0]\n",
        " [3 0 0 0 0 0 0 0 4 0 0 0 0 0 0 0 5 0 0 0 0 0 0 0]\n",
        " [6 0 0 0 0 0 0 0 7 0 0 0 0 0 0 0 8 0 0 0 0 0 0 0]]\n",
        "'look_at_the_zeros = wide_and_deep_array.view(dtype=np.uint8)\n",
        "print(look_at_the_zeros[0])' used 0.0859 MiB RAM in 0.11s, peaked 0.00 MiB above current, total RAM usage 500.14 MiB"
       ]
      },
      {
       "output_type": "stream",
       "stream": "stdout",
       "text": [
        "\n"
       ]
      }
     ],
     "prompt_number": 12
    },
    {
     "cell_type": "markdown",
     "metadata": {},
     "source": [
      "The above array, `look_at_the_zeros`, is a *view* of the same memory as our original `wide_and_deep_array`. This gets back to NumPy's memory efficiency: there are many, many operations in NumPy that reuse memory, views being one of them.\n",
      "\n",
      "I actually learned something here! Look how the original numbers appear *before* the \"leading\" zeros. It turns out that's because Intel processors are what's called [*little-endian*](http://en.wikipedia.org/wiki/Endianness), which means that they store the least-significant bytes first.\n",
      "\n",
      "To convince yourself that this is the same memory that you are looking at, try modifying the second location in memory"
     ]
    }
   ],
   "metadata": {}
  }
 ]
}