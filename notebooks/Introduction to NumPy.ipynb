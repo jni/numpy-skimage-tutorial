{
 "metadata": {
  "name": "",
  "signature": "sha256:ea0bc1afa05d39fc511eda98b00940831b555b7d91051e84fdd32808ab666d44"
 },
 "nbformat": 3,
 "nbformat_minor": 0,
 "worksheets": [
  {
   "cells": [
    {
     "cell_type": "markdown",
     "metadata": {},
     "source": [
      "# What is NumPy?"
     ]
    },
    {
     "cell_type": "markdown",
     "metadata": {},
     "source": [
      "NumPy is short for \"Numeric Python\". It is the basis for nearly all scientific computation in the Python world. Its main contribution is the NumPy `ndarray`. (See \"The NumPy array: a structure for efficient numerical computation\", Van der Walt S. et al, 2011. [arXiv link](http://arxiv.org/abs/1102.1523))"
     ]
    },
    {
     "cell_type": "markdown",
     "metadata": {},
     "source": [
      "# Why use NumPy?\n",
      "\n",
      "## Reason 1: it's memory efficient"
     ]
    },
    {
     "cell_type": "code",
     "collapsed": false,
     "input": [
      "%run -i ../ipython_memory_usage/ipython_memory_usage.py"
     ],
     "language": "python",
     "metadata": {},
     "outputs": []
    },
    {
     "cell_type": "code",
     "collapsed": false,
     "input": [
      "long_list = list(range(int(1e7)))"
     ],
     "language": "python",
     "metadata": {},
     "outputs": []
    },
    {
     "cell_type": "code",
     "collapsed": false,
     "input": [
      "import numpy as np"
     ],
     "language": "python",
     "metadata": {},
     "outputs": []
    },
    {
     "cell_type": "markdown",
     "metadata": {},
     "source": [
      "(**Due to what appears to be a bug in memory_profiler, you will need to run the cell below twice.**)"
     ]
    },
    {
     "cell_type": "code",
     "collapsed": false,
     "input": [
      "long_array = np.arange(1e7, dtype=int)"
     ],
     "language": "python",
     "metadata": {},
     "outputs": []
    },
    {
     "cell_type": "markdown",
     "metadata": {},
     "source": [
      "## Reason 2: it's fast"
     ]
    },
    {
     "cell_type": "markdown",
     "metadata": {},
     "source": [
      "We no longer need the memory footprint watcher, so let's turn it off, using the `stop_watching_memory` function that is provided in the script we ran. This is all a bit magical but don't worry about it."
     ]
    },
    {
     "cell_type": "code",
     "collapsed": false,
     "input": [
      "stop_watching_memory(get_ipython())"
     ],
     "language": "python",
     "metadata": {},
     "outputs": []
    },
    {
     "cell_type": "markdown",
     "metadata": {},
     "source": [
      "Okay, let's time a few operations:"
     ]
    },
    {
     "cell_type": "code",
     "collapsed": false,
     "input": [
      "%timeit sum(long_list)"
     ],
     "language": "python",
     "metadata": {},
     "outputs": []
    },
    {
     "cell_type": "code",
     "collapsed": false,
     "input": [
      "%timeit np.sum(long_array)"
     ],
     "language": "python",
     "metadata": {},
     "outputs": []
    },
    {
     "cell_type": "markdown",
     "metadata": {},
     "source": [
      "## Reason 3: it's multidimensional"
     ]
    },
    {
     "cell_type": "code",
     "collapsed": false,
     "input": [
      "wide_array = np.arange(45).reshape(5, 9)\n",
      "print(wide_array)"
     ],
     "language": "python",
     "metadata": {},
     "outputs": []
    },
    {
     "cell_type": "code",
     "collapsed": false,
     "input": [
      "deep_and_wide_array = wide_array.reshape((5, 3, 3))\n",
      "print(deep_and_wide_array)"
     ],
     "language": "python",
     "metadata": {},
     "outputs": []
    },
    {
     "cell_type": "markdown",
     "metadata": {},
     "source": [
      "# Some NumPy basics"
     ]
    },
    {
     "cell_type": "markdown",
     "metadata": {},
     "source": [
      "## Indexing"
     ]
    },
    {
     "cell_type": "markdown",
     "metadata": {},
     "source": [
      "One of NumPy's strengths is its sophisticated indexing engine. "
     ]
    },
    {
     "cell_type": "code",
     "collapsed": false,
     "input": [
      "deep_and_wide_array[0] # get the first \"level\""
     ],
     "language": "python",
     "metadata": {},
     "outputs": []
    },
    {
     "cell_type": "code",
     "collapsed": false,
     "input": [
      "deep_and_wide_array[-1] # get the *last* \"level\""
     ],
     "language": "python",
     "metadata": {},
     "outputs": []
    },
    {
     "cell_type": "code",
     "collapsed": false,
     "input": [
      "deep_and_wide_array[1:-1] # get all levels between the second (inclusive) and last (not inclusive)"
     ],
     "language": "python",
     "metadata": {},
     "outputs": []
    },
    {
     "cell_type": "code",
     "collapsed": false,
     "input": [
      "deep_and_wide_array[1, 2] # get the second level, third row"
     ],
     "language": "python",
     "metadata": {},
     "outputs": []
    },
    {
     "cell_type": "code",
     "collapsed": false,
     "input": [
      "deep_and_wide_array[:, :, 2] # get the third column of every level and row"
     ],
     "language": "python",
     "metadata": {},
     "outputs": []
    },
    {
     "cell_type": "code",
     "collapsed": false,
     "input": [
      "deep_and_wide_array[::2] # Get every other level"
     ],
     "language": "python",
     "metadata": {},
     "outputs": []
    },
    {
     "cell_type": "markdown",
     "metadata": {},
     "source": [
      "**Exercise:** Get the following slices out of the `deep_and_wide_array`:\n",
      "\n",
      "- every other row of the first level.\n",
      "- every other row and column of all levels.\n",
      "- the last row of every level.\n",
      "- the second-to-last level."
     ]
    },
    {
     "cell_type": "code",
     "collapsed": false,
     "input": [],
     "language": "python",
     "metadata": {},
     "outputs": []
    },
    {
     "cell_type": "markdown",
     "metadata": {},
     "source": [
      "**Exercise:** Can you name some type of data that you would store in a 1D array? 2D? 3D? 4D? 5D?"
     ]
    },
    {
     "cell_type": "markdown",
     "metadata": {},
     "source": [
      "- 1D data:\n",
      "- 2D data:\n",
      "- 3D data:\n",
      "- 4D data:\n",
      "- 5D data:"
     ]
    },
    {
     "cell_type": "markdown",
     "metadata": {},
     "source": [
      "## Boolean indexing"
     ]
    },
    {
     "cell_type": "markdown",
     "metadata": {},
     "source": [
      "You can also access arrays using a *boolean mask*:"
     ]
    },
    {
     "cell_type": "code",
     "collapsed": false,
     "input": [
      "small_nonzero_numbers = (deep_and_wide_array < 10) & (deep_and_wide_array > 0)\n",
      "print(type(small_nonzero_numbers))\n",
      "print(small_nonzero_numbers.dtype)"
     ],
     "language": "python",
     "metadata": {},
     "outputs": []
    },
    {
     "cell_type": "code",
     "collapsed": false,
     "input": [
      "deep_and_wide_array[small_nonzero_numbers]"
     ],
     "language": "python",
     "metadata": {},
     "outputs": []
    },
    {
     "cell_type": "markdown",
     "metadata": {},
     "source": [
      "**Exercise:** Use a boolean mask to find all data in the `deep_and_wide_array` that is greater than 30 and that is even."
     ]
    },
    {
     "cell_type": "code",
     "collapsed": false,
     "input": [],
     "language": "python",
     "metadata": {},
     "outputs": []
    },
    {
     "cell_type": "markdown",
     "metadata": {},
     "source": [
      "## Memory layout"
     ]
    },
    {
     "cell_type": "markdown",
     "metadata": {},
     "source": [
      "NumPy's multidimensional capability is provided by two properties of the array, shape and strides:"
     ]
    },
    {
     "cell_type": "code",
     "collapsed": false,
     "input": [
      "print(deep_and_wide_array.shape)\n",
      "print(deep_and_wide_array.strides)"
     ],
     "language": "python",
     "metadata": {},
     "outputs": []
    },
    {
     "cell_type": "markdown",
     "metadata": {},
     "source": [
      "It's natural to think of a 3D array as a box of little cubes. Each cube holds a number (our data). However, a computer's memory is more like a long line of little cubes (bytes). NumPy needs to know how to take that line of cubes and \"think about it\" as a box. That's what \"shape\" and \"strides\" are for.\n",
      "\n",
      "The *shape* tells NumPy how many cubes are on each side of the box. The *strides* tell NumPy how far along the memory it needs to go to find the next little cube.\n",
      "\n",
      "That lowest stride is 8, because our array contains 64-bit integers, each of which occupies 8 bytes in memory. That's wasteful here: our numbers only go to 44, so we only need a single byte, or 8 bits. (8 bits can represent numbers up to 255.) In memory, our current integers are written with about 56 leading zeros! We can see a glimpse of this using a numpy \"view\", which returns a different way of looking at the same memory:"
     ]
    },
    {
     "cell_type": "code",
     "collapsed": false,
     "input": [
      "look_at_the_zeros = deep_and_wide_array.view(dtype=np.uint8)\n",
      "print(look_at_the_zeros[0])"
     ],
     "language": "python",
     "metadata": {},
     "outputs": []
    },
    {
     "cell_type": "markdown",
     "metadata": {},
     "source": [
      "The above array, `look_at_the_zeros`, is a *view* of the same memory as our original `deep_and_wide_array`. This gets back to NumPy's memory efficiency: there are many, many operations in NumPy that reuse memory, views being one of them.\n",
      "\n",
      "I actually learned something here! Look how the original numbers appear *before* the \"leading\" zeros. It turns out that's because Intel processors are what's called [*little-endian*](http://en.wikipedia.org/wiki/Endianness), which means that they store the least-significant bytes first.\n",
      "\n",
      "**Exercise:** To convince yourself that these are the same \"memory cubes\", try modifying the second location in memory in `look_at_the_zeros`, and then looking at the first \"level\" of `deep_and_wide_array`."
     ]
    },
    {
     "cell_type": "code",
     "collapsed": false,
     "input": [],
     "language": "python",
     "metadata": {},
     "outputs": []
    },
    {
     "cell_type": "markdown",
     "metadata": {},
     "source": [
      "# Views, slices, copies"
     ]
    },
    {
     "cell_type": "markdown",
     "metadata": {},
     "source": [
      "NumPy gives you fine-level control over whether you copy memory or access a different \"view\" of the same array. This has consequences for how much memory you're using."
     ]
    },
    {
     "cell_type": "code",
     "collapsed": false,
     "input": [
      "start_watching_memory(get_ipython())"
     ],
     "language": "python",
     "metadata": {},
     "outputs": []
    },
    {
     "cell_type": "code",
     "collapsed": false,
     "input": [
      "a = np.random.rand(1000, 1000)\n",
      "b = a * 2\n",
      "c = np.sqrt(b)"
     ],
     "language": "python",
     "metadata": {},
     "outputs": []
    },
    {
     "cell_type": "code",
     "collapsed": false,
     "input": [
      "a = np.random.rand(1000, 1000)\n",
      "a *= 2\n",
      "a = np.sqrt(a, out=a) # use 'a' as the output array as well"
     ],
     "language": "python",
     "metadata": {},
     "outputs": []
    },
    {
     "cell_type": "code",
     "collapsed": false,
     "input": [
      "half = a.shape[0] / 2\n",
      "top_half, bottom_half = a[:half, :], a[half:, :]"
     ],
     "language": "python",
     "metadata": {},
     "outputs": []
    },
    {
     "cell_type": "code",
     "collapsed": false,
     "input": [
      "print(\"The top left value of a is originally {0}\".format(a[0, 0]))\n",
      "top_half[0, 0] = 0.9\n",
      "print(\"top_half[0, 0] = 0.9\")\n",
      "print(\"The top left value of a is now {0}\".format(a[0, 0]))"
     ],
     "language": "python",
     "metadata": {},
     "outputs": []
    },
    {
     "cell_type": "markdown",
     "metadata": {},
     "source": [
      "`top_half` is just a *view* of the same memory as `a`, so modifying `top_half` modifies `a`, and vice-versa. Sometimes this is good, sometimes it's bad. If you want a new copy of an array, use the `np.copy` function:"
     ]
    },
    {
     "cell_type": "code",
     "collapsed": false,
     "input": [
      "top_half, bottom_half = np.copy(a[:half, :]), np.copy(a[half:, :])"
     ],
     "language": "python",
     "metadata": {},
     "outputs": []
    },
    {
     "cell_type": "code",
     "collapsed": false,
     "input": [
      "print(\"The top left of a is originally {0}\".format(a[0, 0]))\n",
      "top_half[0, 0] = 0.1\n",
      "print(\"top_half[0, 0] = 0.1\")\n",
      "print(\"The top left value of a is now {0}\".format(a[0, 0]))"
     ],
     "language": "python",
     "metadata": {},
     "outputs": []
    },
    {
     "cell_type": "markdown",
     "metadata": {},
     "source": [
      "This is also true for *discontiguous* slices:"
     ]
    },
    {
     "cell_type": "code",
     "collapsed": false,
     "input": [
      "evens, odds = a[0::2, :], a[1::2, :]"
     ],
     "language": "python",
     "metadata": {},
     "outputs": []
    },
    {
     "cell_type": "code",
     "collapsed": false,
     "input": [
      "print(\"The first second-row value of a is originally {0}\".format(a[1, 0]))\n",
      "odds[0, 0] = 0.1\n",
      "print(\"odds[0, 0] = 0.1\")\n",
      "print(\"The first second-row value of a is now {0}\".format(a[1, 0]))"
     ],
     "language": "python",
     "metadata": {},
     "outputs": []
    },
    {
     "cell_type": "code",
     "collapsed": false,
     "input": [
      "stop_watching_memory(get_ipython())"
     ],
     "language": "python",
     "metadata": {},
     "outputs": []
    },
    {
     "cell_type": "markdown",
     "metadata": {},
     "source": [
      "# Computing along axes"
     ]
    },
    {
     "cell_type": "markdown",
     "metadata": {},
     "source": [
      "NumPy provides many convenience functions to compute, for example, the *mean* and *variance* of an array:"
     ]
    },
    {
     "cell_type": "code",
     "collapsed": false,
     "input": [
      "np.mean(deep_and_wide_array)"
     ],
     "language": "python",
     "metadata": {},
     "outputs": []
    },
    {
     "cell_type": "code",
     "collapsed": false,
     "input": [
      "np.var(deep_and_wide_array)"
     ],
     "language": "python",
     "metadata": {},
     "outputs": []
    },
    {
     "cell_type": "code",
     "collapsed": false,
     "input": [
      "np.std(deep_and_wide_array)"
     ],
     "language": "python",
     "metadata": {},
     "outputs": []
    },
    {
     "cell_type": "markdown",
     "metadata": {},
     "source": [
      "One of the killer features of NumPy is its ability to compute these functions *along axes*:"
     ]
    },
    {
     "cell_type": "code",
     "collapsed": false,
     "input": [
      "np.mean(deep_and_wide_array, axis=0)"
     ],
     "language": "python",
     "metadata": {},
     "outputs": []
    },
    {
     "cell_type": "code",
     "collapsed": false,
     "input": [
      "np.std(deep_and_wide_array, axis=0)"
     ],
     "language": "python",
     "metadata": {},
     "outputs": []
    },
    {
     "cell_type": "code",
     "collapsed": false,
     "input": [
      "np.mean(deep_and_wide_array, axis=1)"
     ],
     "language": "python",
     "metadata": {},
     "outputs": []
    },
    {
     "cell_type": "markdown",
     "metadata": {},
     "source": [
      "SciPy extends this convention with its own statistics library. For example, we can compute the 5th percentile along an axis:"
     ]
    },
    {
     "cell_type": "code",
     "collapsed": false,
     "input": [
      "from scipy.stats import mstats\n",
      "mstats.mquantiles(deep_and_wide_array, prob=[0.05], axis=0)"
     ],
     "language": "python",
     "metadata": {},
     "outputs": []
    },
    {
     "cell_type": "markdown",
     "metadata": {},
     "source": [
      "Uh oh! Looks like the mquantiles module is limited to 2D data. Can you think of how to get around it?"
     ]
    },
    {
     "cell_type": "code",
     "collapsed": false,
     "input": [],
     "language": "python",
     "metadata": {},
     "outputs": []
    }
   ],
   "metadata": {}
  }
 ]
}